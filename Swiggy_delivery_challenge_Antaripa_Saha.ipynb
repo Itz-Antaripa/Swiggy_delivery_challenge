{
  "nbformat": 4,
  "nbformat_minor": 0,
  "metadata": {
    "colab": {
      "name": "Swiggy delivery challenge - Antaripa Saha.ipynb",
      "provenance": [],
      "collapsed_sections": []
    },
    "kernelspec": {
      "name": "python3",
      "display_name": "Python 3"
    },
    "language_info": {
      "name": "python"
    }
  },
  "cells": [
    {
      "cell_type": "code",
      "metadata": {
        "id": "Z4AOp_FXNlmk"
      },
      "source": [
        "from google.colab import files\n",
        "files.upload()"
      ],
      "execution_count": 110,
      "outputs": []
    },
    {
      "cell_type": "code",
      "metadata": {
        "id": "BNPu5Mz1SDcs"
      },
      "source": [
        "!unzip '/content/Data.zip'"
      ],
      "execution_count": 111,
      "outputs": []
    },
    {
      "cell_type": "code",
      "metadata": {
        "id": "h3W1WrcVUvjh"
      },
      "source": [
        "# importing libraries\n",
        "import math\n",
        "import pandas as pd\n",
        "import numpy as np\n",
        "from numpy import mean\n",
        "from sklearn.model_selection import cross_val_score\n",
        "from sklearn.model_selection import RepeatedStratifiedKFold\n",
        "import matplotlib.pyplot as plt\n",
        "import seaborn as sns\n",
        "import datetime"
      ],
      "execution_count": 3,
      "outputs": []
    },
    {
      "cell_type": "code",
      "metadata": {
        "id": "qph_Ac62UqQ-"
      },
      "source": [
        "order = pd.read_csv('Data/Assignment_Data.csv')\n",
        "dp = pd.read_csv('Data/Delivery_Partners_Data.csv')"
      ],
      "execution_count": 4,
      "outputs": []
    },
    {
      "cell_type": "code",
      "metadata": {
        "colab": {
          "base_uri": "https://localhost:8080/",
          "height": 309
        },
        "id": "-qgFhW18VfbP",
        "outputId": "9e725683-5203-46fc-eb97-b2174d897a72"
      },
      "source": [
        "order.head()"
      ],
      "execution_count": 5,
      "outputs": [
        {
          "output_type": "execute_result",
          "data": {
            "text/html": [
              "<div>\n",
              "<style scoped>\n",
              "    .dataframe tbody tr th:only-of-type {\n",
              "        vertical-align: middle;\n",
              "    }\n",
              "\n",
              "    .dataframe tbody tr th {\n",
              "        vertical-align: top;\n",
              "    }\n",
              "\n",
              "    .dataframe thead th {\n",
              "        text-align: right;\n",
              "    }\n",
              "</style>\n",
              "<table border=\"1\" class=\"dataframe\">\n",
              "  <thead>\n",
              "    <tr style=\"text-align: right;\">\n",
              "      <th></th>\n",
              "      <th>ORDER_ID</th>\n",
              "      <th>DE_ID</th>\n",
              "      <th>ASSIGNMENT_START_TIME</th>\n",
              "      <th>ASSIGNMENT_END_TIME</th>\n",
              "      <th>reject_ind</th>\n",
              "      <th>reject_type</th>\n",
              "      <th>PLACED_TIME</th>\n",
              "      <th>DELIVERED_TIME</th>\n",
              "      <th>LASTMILE_DISTANCE</th>\n",
              "      <th>FIRSTMILE_DISTANCE</th>\n",
              "      <th>LAST_MILE_TIME_PREDICTED</th>\n",
              "      <th>PAYOUT_MADE_TO_DE</th>\n",
              "      <th>NUM_PING_COUNT_LAST10MIN</th>\n",
              "      <th>LAST_PING_TIME_LAST10MIN</th>\n",
              "      <th>CUSTOMER_ZONE</th>\n",
              "      <th>CUSTOMER_LAT</th>\n",
              "      <th>CUSTOMER_LNG</th>\n",
              "    </tr>\n",
              "  </thead>\n",
              "  <tbody>\n",
              "    <tr>\n",
              "      <th>0</th>\n",
              "      <td>2745</td>\n",
              "      <td>180976</td>\n",
              "      <td>2021-02-13 03:08:24.000</td>\n",
              "      <td>2021-02-13 03:38:26.000</td>\n",
              "      <td>0</td>\n",
              "      <td>NaN</td>\n",
              "      <td>2021-02-13 03:01:11.686</td>\n",
              "      <td>2021-02-13 03:43:26.000</td>\n",
              "      <td>320.9</td>\n",
              "      <td>320.0</td>\n",
              "      <td>314.0</td>\n",
              "      <td>1810.0</td>\n",
              "      <td>63</td>\n",
              "      <td>2021-02-13 03:07:34.000</td>\n",
              "      <td>373.0</td>\n",
              "      <td>37.377569</td>\n",
              "      <td>72.832560</td>\n",
              "    </tr>\n",
              "    <tr>\n",
              "      <th>1</th>\n",
              "      <td>9462</td>\n",
              "      <td>280243</td>\n",
              "      <td>2021-02-14 05:06:40.000</td>\n",
              "      <td>2021-02-14 05:31:04.000</td>\n",
              "      <td>0</td>\n",
              "      <td>NaN</td>\n",
              "      <td>2021-02-14 04:54:25.832</td>\n",
              "      <td>2021-02-14 05:36:04.000</td>\n",
              "      <td>516.8</td>\n",
              "      <td>342.5</td>\n",
              "      <td>451.0</td>\n",
              "      <td>3210.0</td>\n",
              "      <td>27</td>\n",
              "      <td>2021-02-14 05:06:40.000</td>\n",
              "      <td>373.0</td>\n",
              "      <td>37.380613</td>\n",
              "      <td>72.796909</td>\n",
              "    </tr>\n",
              "    <tr>\n",
              "      <th>2</th>\n",
              "      <td>14071</td>\n",
              "      <td>339813</td>\n",
              "      <td>2021-02-15 02:22:40.000</td>\n",
              "      <td>2021-02-15 02:44:02.000</td>\n",
              "      <td>0</td>\n",
              "      <td>NaN</td>\n",
              "      <td>2021-02-15 02:01:17.864</td>\n",
              "      <td>2021-02-15 02:49:02.000</td>\n",
              "      <td>459.5</td>\n",
              "      <td>418.7</td>\n",
              "      <td>443.0</td>\n",
              "      <td>2910.0</td>\n",
              "      <td>57</td>\n",
              "      <td>2021-02-15 02:22:35.000</td>\n",
              "      <td>373.0</td>\n",
              "      <td>37.372032</td>\n",
              "      <td>72.805871</td>\n",
              "    </tr>\n",
              "    <tr>\n",
              "      <th>3</th>\n",
              "      <td>14442</td>\n",
              "      <td>1315348</td>\n",
              "      <td>2021-02-15 03:01:25.000</td>\n",
              "      <td>2021-02-15 03:15:02.000</td>\n",
              "      <td>0</td>\n",
              "      <td>NaN</td>\n",
              "      <td>2021-02-15 02:43:41.129</td>\n",
              "      <td>2021-02-15 03:20:02.000</td>\n",
              "      <td>376.4</td>\n",
              "      <td>332.9</td>\n",
              "      <td>367.3</td>\n",
              "      <td>3210.0</td>\n",
              "      <td>41</td>\n",
              "      <td>2021-02-15 03:00:28.000</td>\n",
              "      <td>373.0</td>\n",
              "      <td>37.371380</td>\n",
              "      <td>72.819992</td>\n",
              "    </tr>\n",
              "    <tr>\n",
              "      <th>4</th>\n",
              "      <td>14515</td>\n",
              "      <td>1186729</td>\n",
              "      <td>2021-02-15 03:12:24.000</td>\n",
              "      <td>2021-02-15 03:50:24.000</td>\n",
              "      <td>0</td>\n",
              "      <td>NaN</td>\n",
              "      <td>2021-02-15 02:48:17.074</td>\n",
              "      <td>2021-02-15 03:55:24.000</td>\n",
              "      <td>414.5</td>\n",
              "      <td>334.1</td>\n",
              "      <td>413.2</td>\n",
              "      <td>3210.0</td>\n",
              "      <td>13</td>\n",
              "      <td>2021-02-15 03:12:09.000</td>\n",
              "      <td>373.0</td>\n",
              "      <td>37.369925</td>\n",
              "      <td>72.826764</td>\n",
              "    </tr>\n",
              "  </tbody>\n",
              "</table>\n",
              "</div>"
            ],
            "text/plain": [
              "   ORDER_ID    DE_ID  ... CUSTOMER_LAT CUSTOMER_LNG\n",
              "0      2745   180976  ...    37.377569    72.832560\n",
              "1      9462   280243  ...    37.380613    72.796909\n",
              "2     14071   339813  ...    37.372032    72.805871\n",
              "3     14442  1315348  ...    37.371380    72.819992\n",
              "4     14515  1186729  ...    37.369925    72.826764\n",
              "\n",
              "[5 rows x 17 columns]"
            ]
          },
          "metadata": {
            "tags": []
          },
          "execution_count": 5
        }
      ]
    },
    {
      "cell_type": "code",
      "metadata": {
        "colab": {
          "base_uri": "https://localhost:8080/",
          "height": 213
        },
        "id": "KMy5GjREQ6Ea",
        "outputId": "1dbc75cb-cda4-45af-a1d8-02cfe30108ac"
      },
      "source": [
        "order.sample(3)"
      ],
      "execution_count": 6,
      "outputs": [
        {
          "output_type": "execute_result",
          "data": {
            "text/html": [
              "<div>\n",
              "<style scoped>\n",
              "    .dataframe tbody tr th:only-of-type {\n",
              "        vertical-align: middle;\n",
              "    }\n",
              "\n",
              "    .dataframe tbody tr th {\n",
              "        vertical-align: top;\n",
              "    }\n",
              "\n",
              "    .dataframe thead th {\n",
              "        text-align: right;\n",
              "    }\n",
              "</style>\n",
              "<table border=\"1\" class=\"dataframe\">\n",
              "  <thead>\n",
              "    <tr style=\"text-align: right;\">\n",
              "      <th></th>\n",
              "      <th>ORDER_ID</th>\n",
              "      <th>DE_ID</th>\n",
              "      <th>ASSIGNMENT_START_TIME</th>\n",
              "      <th>ASSIGNMENT_END_TIME</th>\n",
              "      <th>reject_ind</th>\n",
              "      <th>reject_type</th>\n",
              "      <th>PLACED_TIME</th>\n",
              "      <th>DELIVERED_TIME</th>\n",
              "      <th>LASTMILE_DISTANCE</th>\n",
              "      <th>FIRSTMILE_DISTANCE</th>\n",
              "      <th>LAST_MILE_TIME_PREDICTED</th>\n",
              "      <th>PAYOUT_MADE_TO_DE</th>\n",
              "      <th>NUM_PING_COUNT_LAST10MIN</th>\n",
              "      <th>LAST_PING_TIME_LAST10MIN</th>\n",
              "      <th>CUSTOMER_ZONE</th>\n",
              "      <th>CUSTOMER_LAT</th>\n",
              "      <th>CUSTOMER_LNG</th>\n",
              "    </tr>\n",
              "  </thead>\n",
              "  <tbody>\n",
              "    <tr>\n",
              "      <th>126339</th>\n",
              "      <td>79324</td>\n",
              "      <td>893967</td>\n",
              "      <td>2021-02-26 03:14:33.000</td>\n",
              "      <td>2021-02-26 03:38:29.000</td>\n",
              "      <td>0</td>\n",
              "      <td>NaN</td>\n",
              "      <td>2021-02-26 03:00:59.452</td>\n",
              "      <td>2021-02-26 03:43:29.000</td>\n",
              "      <td>465.8</td>\n",
              "      <td>320.0</td>\n",
              "      <td>415.0</td>\n",
              "      <td>2260.0</td>\n",
              "      <td>57</td>\n",
              "      <td>2021-02-26 03:14:32.000</td>\n",
              "      <td>374.0</td>\n",
              "      <td>37.357929</td>\n",
              "      <td>72.861412</td>\n",
              "    </tr>\n",
              "    <tr>\n",
              "      <th>95454</th>\n",
              "      <td>110653</td>\n",
              "      <td>185363</td>\n",
              "      <td>2021-03-03 18:41:20.000</td>\n",
              "      <td>2021-03-03 19:02:57.000</td>\n",
              "      <td>0</td>\n",
              "      <td>NaN</td>\n",
              "      <td>2021-03-03 18:40:05.540</td>\n",
              "      <td>2021-03-03 19:07:57.000</td>\n",
              "      <td>367.7</td>\n",
              "      <td>340.4</td>\n",
              "      <td>341.8</td>\n",
              "      <td>1860.0</td>\n",
              "      <td>15</td>\n",
              "      <td>2021-03-03 18:40:52.000</td>\n",
              "      <td>372.0</td>\n",
              "      <td>37.392483</td>\n",
              "      <td>72.850318</td>\n",
              "    </tr>\n",
              "    <tr>\n",
              "      <th>42030</th>\n",
              "      <td>98316</td>\n",
              "      <td>1241381</td>\n",
              "      <td>2021-03-01 05:05:52.000</td>\n",
              "      <td>2021-03-01 05:08:52.000</td>\n",
              "      <td>1</td>\n",
              "      <td>Type-4</td>\n",
              "      <td>2021-03-01 05:04:26.008</td>\n",
              "      <td>2021-03-01 05:43:50.000</td>\n",
              "      <td>509.3</td>\n",
              "      <td>401.6</td>\n",
              "      <td>463.5</td>\n",
              "      <td>0.0</td>\n",
              "      <td>20</td>\n",
              "      <td>2021-03-01 05:05:15.000</td>\n",
              "      <td>668.0</td>\n",
              "      <td>37.400114</td>\n",
              "      <td>72.930197</td>\n",
              "    </tr>\n",
              "  </tbody>\n",
              "</table>\n",
              "</div>"
            ],
            "text/plain": [
              "        ORDER_ID    DE_ID  ... CUSTOMER_LAT CUSTOMER_LNG\n",
              "126339     79324   893967  ...    37.357929    72.861412\n",
              "95454     110653   185363  ...    37.392483    72.850318\n",
              "42030      98316  1241381  ...    37.400114    72.930197\n",
              "\n",
              "[3 rows x 17 columns]"
            ]
          },
          "metadata": {
            "tags": []
          },
          "execution_count": 6
        }
      ]
    },
    {
      "cell_type": "code",
      "metadata": {
        "colab": {
          "base_uri": "https://localhost:8080/"
        },
        "id": "iknodziDVtSk",
        "outputId": "10c64f87-d1bb-4174-f73f-c4a79b902f68"
      },
      "source": [
        "order.shape"
      ],
      "execution_count": 7,
      "outputs": [
        {
          "output_type": "execute_result",
          "data": {
            "text/plain": [
              "(132394, 17)"
            ]
          },
          "metadata": {
            "tags": []
          },
          "execution_count": 7
        }
      ]
    },
    {
      "cell_type": "markdown",
      "metadata": {
        "id": "uvC9Sb8cRKKA"
      },
      "source": [
        "There are 132394 rows and 17 columns in the order assignment dataset"
      ]
    },
    {
      "cell_type": "code",
      "metadata": {
        "colab": {
          "base_uri": "https://localhost:8080/"
        },
        "id": "IXwxBO6So4BP",
        "outputId": "c52ad2fc-e428-4900-a0f3-ba56b360e47e"
      },
      "source": [
        "order.info()"
      ],
      "execution_count": 8,
      "outputs": [
        {
          "output_type": "stream",
          "text": [
            "<class 'pandas.core.frame.DataFrame'>\n",
            "RangeIndex: 132394 entries, 0 to 132393\n",
            "Data columns (total 17 columns):\n",
            " #   Column                    Non-Null Count   Dtype  \n",
            "---  ------                    --------------   -----  \n",
            " 0   ORDER_ID                  132394 non-null  int64  \n",
            " 1   DE_ID                     132394 non-null  int64  \n",
            " 2   ASSIGNMENT_START_TIME     132394 non-null  object \n",
            " 3   ASSIGNMENT_END_TIME       132394 non-null  object \n",
            " 4   reject_ind                132394 non-null  int64  \n",
            " 5   reject_type               8048 non-null    object \n",
            " 6   PLACED_TIME               132394 non-null  object \n",
            " 7   DELIVERED_TIME            131782 non-null  object \n",
            " 8   LASTMILE_DISTANCE         132384 non-null  float64\n",
            " 9   FIRSTMILE_DISTANCE        132238 non-null  float64\n",
            " 10  LAST_MILE_TIME_PREDICTED  132394 non-null  float64\n",
            " 11  PAYOUT_MADE_TO_DE         132391 non-null  float64\n",
            " 12  NUM_PING_COUNT_LAST10MIN  132394 non-null  int64  \n",
            " 13  LAST_PING_TIME_LAST10MIN  132394 non-null  object \n",
            " 14  CUSTOMER_ZONE             113853 non-null  float64\n",
            " 15  CUSTOMER_LAT              132394 non-null  float64\n",
            " 16  CUSTOMER_LNG              132394 non-null  float64\n",
            "dtypes: float64(7), int64(4), object(6)\n",
            "memory usage: 17.2+ MB\n"
          ],
          "name": "stdout"
        }
      ]
    },
    {
      "cell_type": "markdown",
      "metadata": {
        "id": "0iYbEJuNTb8I"
      },
      "source": [
        "Null values in the columns of order assignment details dataset are present in reject_type, DELIVERED_TIME, LASTMILE_DISTANCE, PAYOUT_MADE_TO_DE, CUSTOMER_ZONE. \n",
        "The datatype of ASSIGNMENT_START_TIME, ASSIGNMENT_END_TIME, PLACED_TIME, DELIVERED_TIME are in string format which we need to convert into datetime format. The reject_type column is in categorical format therefore we need to encode that column."
      ]
    },
    {
      "cell_type": "code",
      "metadata": {
        "colab": {
          "base_uri": "https://localhost:8080/"
        },
        "id": "QZw89yqwVzvY",
        "outputId": "9e6c70e1-26ef-40c1-d575-e6693c622847"
      },
      "source": [
        "order['CUSTOMER_ZONE'].unique()"
      ],
      "execution_count": 9,
      "outputs": [
        {
          "output_type": "execute_result",
          "data": {
            "text/plain": [
              "array([373., 375., 668.,  nan, 841., 372., 382., 624., 374.])"
            ]
          },
          "metadata": {
            "tags": []
          },
          "execution_count": 9
        }
      ]
    },
    {
      "cell_type": "code",
      "metadata": {
        "colab": {
          "base_uri": "https://localhost:8080/"
        },
        "id": "NejMdWr4V4st",
        "outputId": "ebaf5f9f-82f7-4a80-e0c7-28b4cf35fe91"
      },
      "source": [
        "len(order['CUSTOMER_ZONE'].unique())"
      ],
      "execution_count": 10,
      "outputs": [
        {
          "output_type": "execute_result",
          "data": {
            "text/plain": [
              "9"
            ]
          },
          "metadata": {
            "tags": []
          },
          "execution_count": 10
        }
      ]
    },
    {
      "cell_type": "code",
      "metadata": {
        "colab": {
          "base_uri": "https://localhost:8080/"
        },
        "id": "tyge5HTjglBo",
        "outputId": "28303328-242a-4c04-98ed-321d1a491d60"
      },
      "source": [
        "len(order['DE_ID'].unique())"
      ],
      "execution_count": 11,
      "outputs": [
        {
          "output_type": "execute_result",
          "data": {
            "text/plain": [
              "991"
            ]
          },
          "metadata": {
            "tags": []
          },
          "execution_count": 11
        }
      ]
    },
    {
      "cell_type": "markdown",
      "metadata": {
        "id": "L6lcPq8GgtFa"
      },
      "source": [
        "In total there are 991 delivery partners in Swiggy."
      ]
    },
    {
      "cell_type": "code",
      "metadata": {
        "colab": {
          "base_uri": "https://localhost:8080/",
          "height": 204
        },
        "id": "prdpbFTFRVw8",
        "outputId": "7ae47f35-d6d7-4d42-9468-dbd51dc78fa2"
      },
      "source": [
        "dp.sample(5)"
      ],
      "execution_count": 12,
      "outputs": [
        {
          "output_type": "execute_result",
          "data": {
            "text/html": [
              "<div>\n",
              "<style scoped>\n",
              "    .dataframe tbody tr th:only-of-type {\n",
              "        vertical-align: middle;\n",
              "    }\n",
              "\n",
              "    .dataframe tbody tr th {\n",
              "        vertical-align: top;\n",
              "    }\n",
              "\n",
              "    .dataframe thead th {\n",
              "        text-align: right;\n",
              "    }\n",
              "</style>\n",
              "<table border=\"1\" class=\"dataframe\">\n",
              "  <thead>\n",
              "    <tr style=\"text-align: right;\">\n",
              "      <th></th>\n",
              "      <th>DE_ID</th>\n",
              "      <th>SHIFT_END_TIME</th>\n",
              "      <th>DE_HOME_LAT</th>\n",
              "      <th>DE_HOME_LNG</th>\n",
              "      <th>DE_JOINING_DATE</th>\n",
              "      <th>DE_ZONE_ID</th>\n",
              "    </tr>\n",
              "  </thead>\n",
              "  <tbody>\n",
              "    <tr>\n",
              "      <th>306</th>\n",
              "      <td>271595</td>\n",
              "      <td>06:42</td>\n",
              "      <td>37.407032</td>\n",
              "      <td>72.878587</td>\n",
              "      <td>2020-05-10</td>\n",
              "      <td>624</td>\n",
              "    </tr>\n",
              "    <tr>\n",
              "      <th>583</th>\n",
              "      <td>378714</td>\n",
              "      <td>05:42</td>\n",
              "      <td>37.385059</td>\n",
              "      <td>72.862642</td>\n",
              "      <td>2020-08-29</td>\n",
              "      <td>624</td>\n",
              "    </tr>\n",
              "    <tr>\n",
              "      <th>535</th>\n",
              "      <td>362584</td>\n",
              "      <td>06:42</td>\n",
              "      <td>37.391476</td>\n",
              "      <td>72.849934</td>\n",
              "      <td>2020-08-14</td>\n",
              "      <td>372</td>\n",
              "    </tr>\n",
              "    <tr>\n",
              "      <th>728</th>\n",
              "      <td>324811</td>\n",
              "      <td>06:42</td>\n",
              "      <td>37.398369</td>\n",
              "      <td>72.926424</td>\n",
              "      <td>2020-07-06</td>\n",
              "      <td>668</td>\n",
              "    </tr>\n",
              "    <tr>\n",
              "      <th>363</th>\n",
              "      <td>310691</td>\n",
              "      <td>05:42</td>\n",
              "      <td>37.368085</td>\n",
              "      <td>72.840738</td>\n",
              "      <td>2020-06-21</td>\n",
              "      <td>374</td>\n",
              "    </tr>\n",
              "  </tbody>\n",
              "</table>\n",
              "</div>"
            ],
            "text/plain": [
              "      DE_ID SHIFT_END_TIME  ...  DE_JOINING_DATE  DE_ZONE_ID\n",
              "306  271595          06:42  ...       2020-05-10         624\n",
              "583  378714          05:42  ...       2020-08-29         624\n",
              "535  362584          06:42  ...       2020-08-14         372\n",
              "728  324811          06:42  ...       2020-07-06         668\n",
              "363  310691          05:42  ...       2020-06-21         374\n",
              "\n",
              "[5 rows x 6 columns]"
            ]
          },
          "metadata": {
            "tags": []
          },
          "execution_count": 12
        }
      ]
    },
    {
      "cell_type": "code",
      "metadata": {
        "colab": {
          "base_uri": "https://localhost:8080/"
        },
        "id": "yaH48nDkSSyo",
        "outputId": "44dd58fb-3ff8-4fc4-8cec-739fbb855ac9"
      },
      "source": [
        "dp.shape"
      ],
      "execution_count": 13,
      "outputs": [
        {
          "output_type": "execute_result",
          "data": {
            "text/plain": [
              "(991, 6)"
            ]
          },
          "metadata": {
            "tags": []
          },
          "execution_count": 13
        }
      ]
    },
    {
      "cell_type": "markdown",
      "metadata": {
        "id": "efE0ntxIgftA"
      },
      "source": [
        "We have details about 991 delivery partners."
      ]
    },
    {
      "cell_type": "code",
      "metadata": {
        "colab": {
          "base_uri": "https://localhost:8080/"
        },
        "id": "yHKXfNSlSUuI",
        "outputId": "b4a14c6b-a384-4e0c-86fe-6ff2016c25b3"
      },
      "source": [
        "dp.info()"
      ],
      "execution_count": 14,
      "outputs": [
        {
          "output_type": "stream",
          "text": [
            "<class 'pandas.core.frame.DataFrame'>\n",
            "RangeIndex: 991 entries, 0 to 990\n",
            "Data columns (total 6 columns):\n",
            " #   Column           Non-Null Count  Dtype  \n",
            "---  ------           --------------  -----  \n",
            " 0   DE_ID            991 non-null    int64  \n",
            " 1   SHIFT_END_TIME   991 non-null    object \n",
            " 2   DE_HOME_LAT      991 non-null    float64\n",
            " 3   DE_HOME_LNG      991 non-null    float64\n",
            " 4   DE_JOINING_DATE  991 non-null    object \n",
            " 5   DE_ZONE_ID       991 non-null    int64  \n",
            "dtypes: float64(2), int64(2), object(2)\n",
            "memory usage: 46.6+ KB\n"
          ],
          "name": "stdout"
        }
      ]
    },
    {
      "cell_type": "markdown",
      "metadata": {
        "id": "3JgyrE93TU5i"
      },
      "source": [
        "There is no null values in the columns of delivery partner details dataset. The datatype of SHIFT_END_TIME, and DE_JOINING_DATE are in string format which we need to convert into datetime format. Rest all the column valuess are in numerical format."
      ]
    },
    {
      "cell_type": "code",
      "metadata": {
        "colab": {
          "base_uri": "https://localhost:8080/"
        },
        "id": "tKCe9NVwSZfW",
        "outputId": "ae61135a-68e7-4e7f-aa1d-a0fe492cd423"
      },
      "source": [
        "dp['DE_ZONE_ID'].unique()"
      ],
      "execution_count": 15,
      "outputs": [
        {
          "output_type": "execute_result",
          "data": {
            "text/plain": [
              "array([ 372,  375,  624,  668,  374,  841,  373, 1192])"
            ]
          },
          "metadata": {
            "tags": []
          },
          "execution_count": 15
        }
      ]
    },
    {
      "cell_type": "code",
      "metadata": {
        "colab": {
          "base_uri": "https://localhost:8080/"
        },
        "id": "6aD57fJ4V4r_",
        "outputId": "f9e14044-74d0-4420-8c75-3ee0933f4c44"
      },
      "source": [
        "order['reject_ind'].value_counts()"
      ],
      "execution_count": 16,
      "outputs": [
        {
          "output_type": "execute_result",
          "data": {
            "text/plain": [
              "0    124346\n",
              "1      8048\n",
              "Name: reject_ind, dtype: int64"
            ]
          },
          "metadata": {
            "tags": []
          },
          "execution_count": 16
        }
      ]
    },
    {
      "cell_type": "code",
      "metadata": {
        "colab": {
          "base_uri": "https://localhost:8080/",
          "height": 350
        },
        "id": "tLSdcY41ZXQ6",
        "outputId": "71d0fcea-4ab0-4693-8924-fc4317824b7b"
      },
      "source": [
        "reject_ind_value_counts = dict(order['reject_ind'].value_counts())\n",
        "status = ['Not rejected', 'Rejected']\n",
        "values = list(reject_ind_value_counts.values())\n",
        "  \n",
        "fig = plt.figure(figsize = (8, 5))\n",
        " \n",
        "# creating the bar plot\n",
        "sns.barplot(x=status, y=values)\n",
        "\n",
        "plt.xlabel(\"Status of order\")\n",
        "plt.ylabel(\"Number of orders\")\n",
        "plt.title(\"Orders rejected by delivery partners\")\n",
        "plt.show()"
      ],
      "execution_count": 17,
      "outputs": [
        {
          "output_type": "display_data",
          "data": {
            "image/png": "[encoded data removed]",
            "text/plain": [
              "<Figure size 576x360 with 1 Axes>"
            ]
          },
          "metadata": {
            "tags": [],
            "needs_background": "light"
          }
        }
      ]
    },
    {
      "cell_type": "markdown",
      "metadata": {
        "id": "czJ4HFvnciOG"
      },
      "source": [
        "From the above graph we can see that, the number of orders that are accepted(1) is around 124346, and the number of orders that are rejected(0) is around 8048"
      ]
    },
    {
      "cell_type": "code",
      "metadata": {
        "colab": {
          "base_uri": "https://localhost:8080/"
        },
        "id": "N9YQF-FUWchm",
        "outputId": "9e2d424c-2415-4b07-da41-8a06961f7f7e"
      },
      "source": [
        "order['reject_type'].value_counts()"
      ],
      "execution_count": 18,
      "outputs": [
        {
          "output_type": "execute_result",
          "data": {
            "text/plain": [
              "Type-1    3853\n",
              "Type-2    2007\n",
              "Type-3    1449\n",
              "Type-4     739\n",
              "Name: reject_type, dtype: int64"
            ]
          },
          "metadata": {
            "tags": []
          },
          "execution_count": 18
        }
      ]
    },
    {
      "cell_type": "code",
      "metadata": {
        "colab": {
          "base_uri": "https://localhost:8080/"
        },
        "id": "hnhEtZLznMES",
        "outputId": "2cdb267a-acdf-4633-8513-d89eaf440e68"
      },
      "source": [
        "len(order)-len(order['ORDER_ID'].unique())"
      ],
      "execution_count": 23,
      "outputs": [
        {
          "output_type": "execute_result",
          "data": {
            "text/plain": [
              "7596"
            ]
          },
          "metadata": {
            "tags": []
          },
          "execution_count": 23
        }
      ]
    },
    {
      "cell_type": "markdown",
      "metadata": {
        "id": "iqDLXwtDnU3X"
      },
      "source": [
        "There are 7596 duplicate order IDs"
      ]
    },
    {
      "cell_type": "code",
      "metadata": {
        "colab": {
          "base_uri": "https://localhost:8080/"
        },
        "id": "sL5B96zNndd9",
        "outputId": "0b7b4680-dcb7-408e-e35c-18ffebc9200b"
      },
      "source": [
        "order['ORDER_ID'].value_counts()[:10]"
      ],
      "execution_count": 24,
      "outputs": [
        {
          "output_type": "execute_result",
          "data": {
            "text/plain": [
              "9795      13\n",
              "37503     11\n",
              "59285      8\n",
              "94836      7\n",
              "10893      7\n",
              "43371      7\n",
              "1750       6\n",
              "43225      6\n",
              "102097     6\n",
              "2119       6\n",
              "Name: ORDER_ID, dtype: int64"
            ]
          },
          "metadata": {
            "tags": []
          },
          "execution_count": 24
        }
      ]
    },
    {
      "cell_type": "markdown",
      "metadata": {
        "id": "tnTj1ruCnjqj"
      },
      "source": [
        "We can see that ORDER_ID 9795 has 13 occurences. Let's look at it closely to know the reason vbehind it."
      ]
    },
    {
      "cell_type": "code",
      "metadata": {
        "colab": {
          "base_uri": "https://localhost:8080/",
          "height": 693
        },
        "id": "tSaKvnpHniiK",
        "outputId": "8bb31e31-f043-449a-9d48-f9f53a5a9138"
      },
      "source": [
        "order.loc[order['ORDER_ID']==9795]"
      ],
      "execution_count": 25,
      "outputs": [
        {
          "output_type": "execute_result",
          "data": {
            "text/html": [
              "<div>\n",
              "<style scoped>\n",
              "    .dataframe tbody tr th:only-of-type {\n",
              "        vertical-align: middle;\n",
              "    }\n",
              "\n",
              "    .dataframe tbody tr th {\n",
              "        vertical-align: top;\n",
              "    }\n",
              "\n",
              "    .dataframe thead th {\n",
              "        text-align: right;\n",
              "    }\n",
              "</style>\n",
              "<table border=\"1\" class=\"dataframe\">\n",
              "  <thead>\n",
              "    <tr style=\"text-align: right;\">\n",
              "      <th></th>\n",
              "      <th>ORDER_ID</th>\n",
              "      <th>DE_ID</th>\n",
              "      <th>ASSIGNMENT_START_TIME</th>\n",
              "      <th>ASSIGNMENT_END_TIME</th>\n",
              "      <th>reject_ind</th>\n",
              "      <th>reject_type</th>\n",
              "      <th>PLACED_TIME</th>\n",
              "      <th>DELIVERED_TIME</th>\n",
              "      <th>LASTMILE_DISTANCE</th>\n",
              "      <th>FIRSTMILE_DISTANCE</th>\n",
              "      <th>LAST_MILE_TIME_PREDICTED</th>\n",
              "      <th>PAYOUT_MADE_TO_DE</th>\n",
              "      <th>NUM_PING_COUNT_LAST10MIN</th>\n",
              "      <th>LAST_PING_TIME_LAST10MIN</th>\n",
              "      <th>CUSTOMER_ZONE</th>\n",
              "      <th>CUSTOMER_LAT</th>\n",
              "      <th>CUSTOMER_LNG</th>\n",
              "    </tr>\n",
              "  </thead>\n",
              "  <tbody>\n",
              "    <tr>\n",
              "      <th>54744</th>\n",
              "      <td>9795</td>\n",
              "      <td>1161842</td>\n",
              "      <td>2021-02-14 07:00:39.000</td>\n",
              "      <td>2021-02-14 07:30:48.000</td>\n",
              "      <td>0</td>\n",
              "      <td>NaN</td>\n",
              "      <td>2021-02-14 05:32:59.753</td>\n",
              "      <td>2021-02-14 07:35:48.000</td>\n",
              "      <td>560.9</td>\n",
              "      <td>400.1</td>\n",
              "      <td>487.2</td>\n",
              "      <td>5310.0</td>\n",
              "      <td>8</td>\n",
              "      <td>2021-02-14 07:00:05.000</td>\n",
              "      <td>NaN</td>\n",
              "      <td>37.401954</td>\n",
              "      <td>72.792432</td>\n",
              "    </tr>\n",
              "    <tr>\n",
              "      <th>54745</th>\n",
              "      <td>9795</td>\n",
              "      <td>333840</td>\n",
              "      <td>2021-02-14 06:13:24.000</td>\n",
              "      <td>2021-02-14 06:45:44.000</td>\n",
              "      <td>1</td>\n",
              "      <td>Type-1</td>\n",
              "      <td>2021-02-14 05:32:59.753</td>\n",
              "      <td>2021-02-14 07:35:48.000</td>\n",
              "      <td>560.9</td>\n",
              "      <td>424.1</td>\n",
              "      <td>487.2</td>\n",
              "      <td>0.0</td>\n",
              "      <td>36</td>\n",
              "      <td>2021-02-14 06:11:58.000</td>\n",
              "      <td>NaN</td>\n",
              "      <td>37.401954</td>\n",
              "      <td>72.792432</td>\n",
              "    </tr>\n",
              "    <tr>\n",
              "      <th>54746</th>\n",
              "      <td>9795</td>\n",
              "      <td>333840</td>\n",
              "      <td>2021-02-14 06:13:24.000</td>\n",
              "      <td>2021-02-14 06:45:44.975</td>\n",
              "      <td>1</td>\n",
              "      <td>Type-3</td>\n",
              "      <td>2021-02-14 05:32:59.753</td>\n",
              "      <td>2021-02-14 07:35:48.000</td>\n",
              "      <td>560.9</td>\n",
              "      <td>424.1</td>\n",
              "      <td>487.2</td>\n",
              "      <td>0.0</td>\n",
              "      <td>36</td>\n",
              "      <td>2021-02-14 06:11:58.000</td>\n",
              "      <td>NaN</td>\n",
              "      <td>37.401954</td>\n",
              "      <td>72.792432</td>\n",
              "    </tr>\n",
              "    <tr>\n",
              "      <th>54747</th>\n",
              "      <td>9795</td>\n",
              "      <td>978904</td>\n",
              "      <td>2021-02-14 06:46:24.000</td>\n",
              "      <td>2021-02-14 06:48:23.000</td>\n",
              "      <td>1</td>\n",
              "      <td>Type-1</td>\n",
              "      <td>2021-02-14 05:32:59.753</td>\n",
              "      <td>2021-02-14 07:35:48.000</td>\n",
              "      <td>560.9</td>\n",
              "      <td>397.7</td>\n",
              "      <td>487.2</td>\n",
              "      <td>0.0</td>\n",
              "      <td>9</td>\n",
              "      <td>2021-02-14 06:46:24.000</td>\n",
              "      <td>NaN</td>\n",
              "      <td>37.401954</td>\n",
              "      <td>72.792432</td>\n",
              "    </tr>\n",
              "    <tr>\n",
              "      <th>54748</th>\n",
              "      <td>9795</td>\n",
              "      <td>953785</td>\n",
              "      <td>2021-02-14 06:48:24.000</td>\n",
              "      <td>2021-02-14 06:50:33.000</td>\n",
              "      <td>1</td>\n",
              "      <td>Type-1</td>\n",
              "      <td>2021-02-14 05:32:59.753</td>\n",
              "      <td>2021-02-14 07:35:48.000</td>\n",
              "      <td>560.9</td>\n",
              "      <td>420.8</td>\n",
              "      <td>487.2</td>\n",
              "      <td>0.0</td>\n",
              "      <td>24</td>\n",
              "      <td>2021-02-14 06:48:07.000</td>\n",
              "      <td>NaN</td>\n",
              "      <td>37.401954</td>\n",
              "      <td>72.792432</td>\n",
              "    </tr>\n",
              "    <tr>\n",
              "      <th>54749</th>\n",
              "      <td>9795</td>\n",
              "      <td>953785</td>\n",
              "      <td>2021-02-14 06:48:24.000</td>\n",
              "      <td>2021-02-14 06:50:33.857</td>\n",
              "      <td>1</td>\n",
              "      <td>Type-3</td>\n",
              "      <td>2021-02-14 05:32:59.753</td>\n",
              "      <td>2021-02-14 07:35:48.000</td>\n",
              "      <td>560.9</td>\n",
              "      <td>420.8</td>\n",
              "      <td>487.2</td>\n",
              "      <td>0.0</td>\n",
              "      <td>24</td>\n",
              "      <td>2021-02-14 06:48:07.000</td>\n",
              "      <td>NaN</td>\n",
              "      <td>37.401954</td>\n",
              "      <td>72.792432</td>\n",
              "    </tr>\n",
              "    <tr>\n",
              "      <th>54750</th>\n",
              "      <td>9795</td>\n",
              "      <td>1167674</td>\n",
              "      <td>2021-02-14 05:36:40.000</td>\n",
              "      <td>2021-02-14 06:02:51.000</td>\n",
              "      <td>1</td>\n",
              "      <td>Type-1</td>\n",
              "      <td>2021-02-14 05:32:59.753</td>\n",
              "      <td>2021-02-14 07:35:48.000</td>\n",
              "      <td>560.9</td>\n",
              "      <td>393.5</td>\n",
              "      <td>487.2</td>\n",
              "      <td>0.0</td>\n",
              "      <td>10</td>\n",
              "      <td>2021-02-14 05:36:36.000</td>\n",
              "      <td>NaN</td>\n",
              "      <td>37.401954</td>\n",
              "      <td>72.792432</td>\n",
              "    </tr>\n",
              "    <tr>\n",
              "      <th>54751</th>\n",
              "      <td>9795</td>\n",
              "      <td>1167674</td>\n",
              "      <td>2021-02-14 05:36:40.000</td>\n",
              "      <td>2021-02-14 06:02:51.922</td>\n",
              "      <td>1</td>\n",
              "      <td>Type-3</td>\n",
              "      <td>2021-02-14 05:32:59.753</td>\n",
              "      <td>2021-02-14 07:35:48.000</td>\n",
              "      <td>560.9</td>\n",
              "      <td>393.5</td>\n",
              "      <td>487.2</td>\n",
              "      <td>0.0</td>\n",
              "      <td>10</td>\n",
              "      <td>2021-02-14 05:36:36.000</td>\n",
              "      <td>NaN</td>\n",
              "      <td>37.401954</td>\n",
              "      <td>72.792432</td>\n",
              "    </tr>\n",
              "    <tr>\n",
              "      <th>54752</th>\n",
              "      <td>9795</td>\n",
              "      <td>1167674</td>\n",
              "      <td>2021-02-14 06:12:31.000</td>\n",
              "      <td>2021-02-14 06:13:10.000</td>\n",
              "      <td>1</td>\n",
              "      <td>Type-1</td>\n",
              "      <td>2021-02-14 05:32:59.753</td>\n",
              "      <td>2021-02-14 07:35:48.000</td>\n",
              "      <td>560.9</td>\n",
              "      <td>393.5</td>\n",
              "      <td>487.2</td>\n",
              "      <td>0.0</td>\n",
              "      <td>10</td>\n",
              "      <td>2021-02-14 05:36:36.000</td>\n",
              "      <td>NaN</td>\n",
              "      <td>37.401954</td>\n",
              "      <td>72.792432</td>\n",
              "    </tr>\n",
              "    <tr>\n",
              "      <th>54753</th>\n",
              "      <td>9795</td>\n",
              "      <td>1167674</td>\n",
              "      <td>2021-02-14 06:50:42.000</td>\n",
              "      <td>2021-02-14 06:54:29.000</td>\n",
              "      <td>1</td>\n",
              "      <td>Type-1</td>\n",
              "      <td>2021-02-14 05:32:59.753</td>\n",
              "      <td>2021-02-14 07:35:48.000</td>\n",
              "      <td>560.9</td>\n",
              "      <td>393.5</td>\n",
              "      <td>487.2</td>\n",
              "      <td>0.0</td>\n",
              "      <td>10</td>\n",
              "      <td>2021-02-14 05:36:36.000</td>\n",
              "      <td>NaN</td>\n",
              "      <td>37.401954</td>\n",
              "      <td>72.792432</td>\n",
              "    </tr>\n",
              "    <tr>\n",
              "      <th>54754</th>\n",
              "      <td>9795</td>\n",
              "      <td>1167674</td>\n",
              "      <td>2021-02-14 06:50:42.000</td>\n",
              "      <td>2021-02-14 06:54:29.467</td>\n",
              "      <td>1</td>\n",
              "      <td>Type-3</td>\n",
              "      <td>2021-02-14 05:32:59.753</td>\n",
              "      <td>2021-02-14 07:35:48.000</td>\n",
              "      <td>560.9</td>\n",
              "      <td>393.5</td>\n",
              "      <td>487.2</td>\n",
              "      <td>0.0</td>\n",
              "      <td>10</td>\n",
              "      <td>2021-02-14 05:36:36.000</td>\n",
              "      <td>NaN</td>\n",
              "      <td>37.401954</td>\n",
              "      <td>72.792432</td>\n",
              "    </tr>\n",
              "    <tr>\n",
              "      <th>54755</th>\n",
              "      <td>9795</td>\n",
              "      <td>1297294</td>\n",
              "      <td>2021-02-14 06:03:00.000</td>\n",
              "      <td>2021-02-14 06:12:18.000</td>\n",
              "      <td>1</td>\n",
              "      <td>Type-1</td>\n",
              "      <td>2021-02-14 05:32:59.753</td>\n",
              "      <td>2021-02-14 07:35:48.000</td>\n",
              "      <td>560.9</td>\n",
              "      <td>NaN</td>\n",
              "      <td>487.2</td>\n",
              "      <td>0.0</td>\n",
              "      <td>47</td>\n",
              "      <td>2021-02-14 06:02:21.000</td>\n",
              "      <td>NaN</td>\n",
              "      <td>37.401954</td>\n",
              "      <td>72.792432</td>\n",
              "    </tr>\n",
              "    <tr>\n",
              "      <th>54756</th>\n",
              "      <td>9795</td>\n",
              "      <td>1297294</td>\n",
              "      <td>2021-02-14 06:03:00.000</td>\n",
              "      <td>2021-02-14 06:12:18.428</td>\n",
              "      <td>1</td>\n",
              "      <td>Type-3</td>\n",
              "      <td>2021-02-14 05:32:59.753</td>\n",
              "      <td>2021-02-14 07:35:48.000</td>\n",
              "      <td>560.9</td>\n",
              "      <td>NaN</td>\n",
              "      <td>487.2</td>\n",
              "      <td>0.0</td>\n",
              "      <td>47</td>\n",
              "      <td>2021-02-14 06:02:21.000</td>\n",
              "      <td>NaN</td>\n",
              "      <td>37.401954</td>\n",
              "      <td>72.792432</td>\n",
              "    </tr>\n",
              "  </tbody>\n",
              "</table>\n",
              "</div>"
            ],
            "text/plain": [
              "       ORDER_ID    DE_ID  ... CUSTOMER_LAT CUSTOMER_LNG\n",
              "54744      9795  1161842  ...    37.401954    72.792432\n",
              "54745      9795   333840  ...    37.401954    72.792432\n",
              "54746      9795   333840  ...    37.401954    72.792432\n",
              "54747      9795   978904  ...    37.401954    72.792432\n",
              "54748      9795   953785  ...    37.401954    72.792432\n",
              "54749      9795   953785  ...    37.401954    72.792432\n",
              "54750      9795  1167674  ...    37.401954    72.792432\n",
              "54751      9795  1167674  ...    37.401954    72.792432\n",
              "54752      9795  1167674  ...    37.401954    72.792432\n",
              "54753      9795  1167674  ...    37.401954    72.792432\n",
              "54754      9795  1167674  ...    37.401954    72.792432\n",
              "54755      9795  1297294  ...    37.401954    72.792432\n",
              "54756      9795  1297294  ...    37.401954    72.792432\n",
              "\n",
              "[13 rows x 17 columns]"
            ]
          },
          "metadata": {
            "tags": []
          },
          "execution_count": 25
        }
      ]
    },
    {
      "cell_type": "code",
      "metadata": {
        "colab": {
          "base_uri": "https://localhost:8080/"
        },
        "id": "a7z_h8jUoAGX",
        "outputId": "bfde4f77-3a8f-40e9-e1bd-b9534458ec15"
      },
      "source": [
        "order.loc[order['ORDER_ID']==9795]['DE_ID'].unique()"
      ],
      "execution_count": 26,
      "outputs": [
        {
          "output_type": "execute_result",
          "data": {
            "text/plain": [
              "array([1161842,  333840,  978904,  953785, 1167674, 1297294])"
            ]
          },
          "metadata": {
            "tags": []
          },
          "execution_count": 26
        }
      ]
    },
    {
      "cell_type": "markdown",
      "metadata": {
        "id": "hj7DFyCeoJDo"
      },
      "source": [
        "This order was assigned to 6 delivery executives and five of them has rejected the order with multiple rejection types."
      ]
    },
    {
      "cell_type": "code",
      "metadata": {
        "colab": {
          "base_uri": "https://localhost:8080/",
          "height": 295
        },
        "id": "1raUW_s-XyeH",
        "outputId": "bb984e3d-5565-4243-fd7d-24217451d017"
      },
      "source": [
        "types = dict(order['reject_type'].value_counts())\n",
        "sns.barplot(x=list(types.keys()), y=list(types.values()))\n",
        "\n",
        "plt.xlabel(\"Rejection type\")\n",
        "plt.ylabel(\"Number of orders\")\n",
        "plt.title(\"Under which type the order was rejected?\")\n",
        "plt.show()"
      ],
      "execution_count": 19,
      "outputs": [
        {
          "output_type": "display_data",
          "data": {
            "image/png": "[encoded data removed]",
            "text/plain": [
              "<Figure size 432x288 with 1 Axes>"
            ]
          },
          "metadata": {
            "tags": [],
            "needs_background": "light"
          }
        }
      ]
    },
    {
      "cell_type": "markdown",
      "metadata": {
        "id": "bTVxJ45vVDH_"
      },
      "source": [
        "As we can see the rejected orders by delivery partners mostly fall under Type-I rejection. We need to find out what is the actual cause for delivery partners rejecting the orders."
      ]
    },
    {
      "cell_type": "markdown",
      "metadata": {
        "id": "gSVhv9Edd79a"
      },
      "source": [
        "**Left join two datasets on the basis of common DE_ID such that we can the delivery partner's information in the order assignment data itself**"
      ]
    },
    {
      "cell_type": "code",
      "metadata": {
        "colab": {
          "base_uri": "https://localhost:8080/",
          "height": 309
        },
        "id": "Rimrx8e0U_5k",
        "outputId": "7e31b225-3834-4a64-b13c-33e5beb135a4"
      },
      "source": [
        "total_df = pd.merge(left=order, right=dp, how='left', left_on='DE_ID', right_on='DE_ID')\n",
        "total_df.sample(5)"
      ],
      "execution_count": 20,
      "outputs": [
        {
          "output_type": "execute_result",
          "data": {
            "text/html": [
              "<div>\n",
              "<style scoped>\n",
              "    .dataframe tbody tr th:only-of-type {\n",
              "        vertical-align: middle;\n",
              "    }\n",
              "\n",
              "    .dataframe tbody tr th {\n",
              "        vertical-align: top;\n",
              "    }\n",
              "\n",
              "    .dataframe thead th {\n",
              "        text-align: right;\n",
              "    }\n",
              "</style>\n",
              "<table border=\"1\" class=\"dataframe\">\n",
              "  <thead>\n",
              "    <tr style=\"text-align: right;\">\n",
              "      <th></th>\n",
              "      <th>ORDER_ID</th>\n",
              "      <th>DE_ID</th>\n",
              "      <th>ASSIGNMENT_START_TIME</th>\n",
              "      <th>ASSIGNMENT_END_TIME</th>\n",
              "      <th>reject_ind</th>\n",
              "      <th>reject_type</th>\n",
              "      <th>PLACED_TIME</th>\n",
              "      <th>DELIVERED_TIME</th>\n",
              "      <th>LASTMILE_DISTANCE</th>\n",
              "      <th>FIRSTMILE_DISTANCE</th>\n",
              "      <th>LAST_MILE_TIME_PREDICTED</th>\n",
              "      <th>PAYOUT_MADE_TO_DE</th>\n",
              "      <th>NUM_PING_COUNT_LAST10MIN</th>\n",
              "      <th>LAST_PING_TIME_LAST10MIN</th>\n",
              "      <th>CUSTOMER_ZONE</th>\n",
              "      <th>CUSTOMER_LAT</th>\n",
              "      <th>CUSTOMER_LNG</th>\n",
              "      <th>SHIFT_END_TIME</th>\n",
              "      <th>DE_HOME_LAT</th>\n",
              "      <th>DE_HOME_LNG</th>\n",
              "      <th>DE_JOINING_DATE</th>\n",
              "      <th>DE_ZONE_ID</th>\n",
              "    </tr>\n",
              "  </thead>\n",
              "  <tbody>\n",
              "    <tr>\n",
              "      <th>39984</th>\n",
              "      <td>90398</td>\n",
              "      <td>667718</td>\n",
              "      <td>2021-02-28 01:42:32.000</td>\n",
              "      <td>2021-02-28 02:11:44.000</td>\n",
              "      <td>0</td>\n",
              "      <td>NaN</td>\n",
              "      <td>2021-02-28 01:42:31.095</td>\n",
              "      <td>2021-02-28 02:16:44.000</td>\n",
              "      <td>325.1</td>\n",
              "      <td>395.9</td>\n",
              "      <td>326.5</td>\n",
              "      <td>1960.0</td>\n",
              "      <td>5</td>\n",
              "      <td>2021-02-28 01:41:55.000</td>\n",
              "      <td>375.0</td>\n",
              "      <td>37.408601</td>\n",
              "      <td>72.852451</td>\n",
              "      <td>06:42</td>\n",
              "      <td>37.412689</td>\n",
              "      <td>72.836534</td>\n",
              "      <td>2018-06-27</td>\n",
              "      <td>375</td>\n",
              "    </tr>\n",
              "    <tr>\n",
              "      <th>98697</th>\n",
              "      <td>65934</td>\n",
              "      <td>1299832</td>\n",
              "      <td>2021-02-24 03:40:53.000</td>\n",
              "      <td>2021-02-24 03:54:58.000</td>\n",
              "      <td>0</td>\n",
              "      <td>NaN</td>\n",
              "      <td>2021-02-24 03:33:43.999</td>\n",
              "      <td>2021-02-24 03:59:58.000</td>\n",
              "      <td>398.3</td>\n",
              "      <td>333.2</td>\n",
              "      <td>407.3</td>\n",
              "      <td>1960.0</td>\n",
              "      <td>14</td>\n",
              "      <td>2021-02-24 03:40:11.000</td>\n",
              "      <td>372.0</td>\n",
              "      <td>37.393515</td>\n",
              "      <td>72.850639</td>\n",
              "      <td>05:42</td>\n",
              "      <td>37.361231</td>\n",
              "      <td>72.878278</td>\n",
              "      <td>2019-05-26</td>\n",
              "      <td>372</td>\n",
              "    </tr>\n",
              "    <tr>\n",
              "      <th>8091</th>\n",
              "      <td>89982</td>\n",
              "      <td>339754</td>\n",
              "      <td>2021-02-28 00:36:32.000</td>\n",
              "      <td>2021-02-28 01:04:09.000</td>\n",
              "      <td>0</td>\n",
              "      <td>NaN</td>\n",
              "      <td>2021-02-28 00:35:39.142</td>\n",
              "      <td>2021-02-28 01:09:09.000</td>\n",
              "      <td>436.4</td>\n",
              "      <td>367.4</td>\n",
              "      <td>401.2</td>\n",
              "      <td>2510.0</td>\n",
              "      <td>12</td>\n",
              "      <td>2021-02-28 00:36:12.000</td>\n",
              "      <td>373.0</td>\n",
              "      <td>37.376160</td>\n",
              "      <td>72.814855</td>\n",
              "      <td>05:42</td>\n",
              "      <td>37.385567</td>\n",
              "      <td>72.865006</td>\n",
              "      <td>2020-07-25</td>\n",
              "      <td>372</td>\n",
              "    </tr>\n",
              "    <tr>\n",
              "      <th>59481</th>\n",
              "      <td>102065</td>\n",
              "      <td>286634</td>\n",
              "      <td>2021-03-02 03:15:36.000</td>\n",
              "      <td>2021-03-02 03:59:47.000</td>\n",
              "      <td>0</td>\n",
              "      <td>NaN</td>\n",
              "      <td>2021-03-02 03:05:11.564</td>\n",
              "      <td>2021-03-02 04:04:47.000</td>\n",
              "      <td>417.2</td>\n",
              "      <td>320.0</td>\n",
              "      <td>421.8</td>\n",
              "      <td>2760.0</td>\n",
              "      <td>17</td>\n",
              "      <td>2021-03-02 03:15:31.000</td>\n",
              "      <td>NaN</td>\n",
              "      <td>37.435975</td>\n",
              "      <td>72.870123</td>\n",
              "      <td>05:42</td>\n",
              "      <td>37.403414</td>\n",
              "      <td>72.891151</td>\n",
              "      <td>2020-05-25</td>\n",
              "      <td>624</td>\n",
              "    </tr>\n",
              "    <tr>\n",
              "      <th>15437</th>\n",
              "      <td>91016</td>\n",
              "      <td>375491</td>\n",
              "      <td>2021-02-28 02:46:33.000</td>\n",
              "      <td>2021-02-28 03:11:23.000</td>\n",
              "      <td>0</td>\n",
              "      <td>NaN</td>\n",
              "      <td>2021-02-28 02:37:49.374</td>\n",
              "      <td>2021-02-28 03:16:23.000</td>\n",
              "      <td>352.1</td>\n",
              "      <td>320.0</td>\n",
              "      <td>346.5</td>\n",
              "      <td>2760.0</td>\n",
              "      <td>12</td>\n",
              "      <td>2021-02-28 02:46:24.000</td>\n",
              "      <td>375.0</td>\n",
              "      <td>37.407799</td>\n",
              "      <td>72.857631</td>\n",
              "      <td>06:42</td>\n",
              "      <td>37.407914</td>\n",
              "      <td>72.850805</td>\n",
              "      <td>2020-08-25</td>\n",
              "      <td>375</td>\n",
              "    </tr>\n",
              "  </tbody>\n",
              "</table>\n",
              "</div>"
            ],
            "text/plain": [
              "       ORDER_ID    DE_ID  ... DE_JOINING_DATE DE_ZONE_ID\n",
              "39984     90398   667718  ...      2018-06-27        375\n",
              "98697     65934  1299832  ...      2019-05-26        372\n",
              "8091      89982   339754  ...      2020-07-25        372\n",
              "59481    102065   286634  ...      2020-05-25        624\n",
              "15437     91016   375491  ...      2020-08-25        375\n",
              "\n",
              "[5 rows x 22 columns]"
            ]
          },
          "metadata": {
            "tags": []
          },
          "execution_count": 20
        }
      ]
    },
    {
      "cell_type": "code",
      "metadata": {
        "colab": {
          "base_uri": "https://localhost:8080/"
        },
        "id": "U0h5Ji7-eN2M",
        "outputId": "2f597465-9c5a-477b-8b9c-3e6cb6aad0c4"
      },
      "source": [
        "total_df.shape"
      ],
      "execution_count": 27,
      "outputs": [
        {
          "output_type": "execute_result",
          "data": {
            "text/plain": [
              "(132394, 22)"
            ]
          },
          "metadata": {
            "tags": []
          },
          "execution_count": 27
        }
      ]
    },
    {
      "cell_type": "markdown",
      "metadata": {
        "id": "xWXDUX40f1Wr"
      },
      "source": [
        "The number of rows remain same as it was there previously in order assignment deetails dataset, just that we have added the details of delivery partner in the next columns. Previously there were 17 columns, now it's 22."
      ]
    },
    {
      "cell_type": "code",
      "metadata": {
        "colab": {
          "base_uri": "https://localhost:8080/"
        },
        "id": "vFkefRtAgRIG",
        "outputId": "337193fe-544f-4b29-c7da-e4b83396e969"
      },
      "source": [
        "total_df.info()"
      ],
      "execution_count": 28,
      "outputs": [
        {
          "output_type": "stream",
          "text": [
            "<class 'pandas.core.frame.DataFrame'>\n",
            "Int64Index: 132394 entries, 0 to 132393\n",
            "Data columns (total 22 columns):\n",
            " #   Column                    Non-Null Count   Dtype  \n",
            "---  ------                    --------------   -----  \n",
            " 0   ORDER_ID                  132394 non-null  int64  \n",
            " 1   DE_ID                     132394 non-null  int64  \n",
            " 2   ASSIGNMENT_START_TIME     132394 non-null  object \n",
            " 3   ASSIGNMENT_END_TIME       132394 non-null  object \n",
            " 4   reject_ind                132394 non-null  int64  \n",
            " 5   reject_type               8048 non-null    object \n",
            " 6   PLACED_TIME               132394 non-null  object \n",
            " 7   DELIVERED_TIME            131782 non-null  object \n",
            " 8   LASTMILE_DISTANCE         132384 non-null  float64\n",
            " 9   FIRSTMILE_DISTANCE        132238 non-null  float64\n",
            " 10  LAST_MILE_TIME_PREDICTED  132394 non-null  float64\n",
            " 11  PAYOUT_MADE_TO_DE         132391 non-null  float64\n",
            " 12  NUM_PING_COUNT_LAST10MIN  132394 non-null  int64  \n",
            " 13  LAST_PING_TIME_LAST10MIN  132394 non-null  object \n",
            " 14  CUSTOMER_ZONE             113853 non-null  float64\n",
            " 15  CUSTOMER_LAT              132394 non-null  float64\n",
            " 16  CUSTOMER_LNG              132394 non-null  float64\n",
            " 17  SHIFT_END_TIME            132394 non-null  object \n",
            " 18  DE_HOME_LAT               132394 non-null  float64\n",
            " 19  DE_HOME_LNG               132394 non-null  float64\n",
            " 20  DE_JOINING_DATE           132394 non-null  object \n",
            " 21  DE_ZONE_ID                132394 non-null  int64  \n",
            "dtypes: float64(9), int64(5), object(8)\n",
            "memory usage: 23.2+ MB\n"
          ],
          "name": "stdout"
        }
      ]
    },
    {
      "cell_type": "markdown",
      "metadata": {
        "id": "pBQ1De24hOWl"
      },
      "source": [
        "The data is almost same as it was in order assignment details dataset, there was only addition in delivery partner details and we can see that there are no null values from delivery partner details dataset."
      ]
    },
    {
      "cell_type": "markdown",
      "metadata": {
        "id": "7hd8WaCGhgrX"
      },
      "source": [
        "**Feature engineering of datetime data**"
      ]
    },
    {
      "cell_type": "code",
      "metadata": {
        "id": "NXvQQ59tiyIZ"
      },
      "source": [
        "total_df['ASSIGNMENT_START_TIME'] = pd.to_datetime(total_df['ASSIGNMENT_START_TIME'], errors = 'coerce')\n",
        "shift_end = pd.to_datetime(total_df['SHIFT_END_TIME'], errors = 'coerce')\n",
        "joining = pd.to_datetime(total_df['DE_JOINING_DATE'], errors = 'coerce')"
      ],
      "execution_count": 29,
      "outputs": []
    },
    {
      "cell_type": "code",
      "metadata": {
        "colab": {
          "base_uri": "https://localhost:8080/"
        },
        "id": "8V7kx68nl4m1",
        "outputId": "0cfebc0e-6301-4e23-fd41-94b758bb619b"
      },
      "source": [
        "total_df['ASSIGNMENT_START_TIME'].isnull().sum()"
      ],
      "execution_count": 30,
      "outputs": [
        {
          "output_type": "execute_result",
          "data": {
            "text/plain": [
              "0"
            ]
          },
          "metadata": {
            "tags": []
          },
          "execution_count": 30
        }
      ]
    },
    {
      "cell_type": "markdown",
      "metadata": {
        "id": "0BXd46X4nQ7A"
      },
      "source": [
        "There is no null values in ASSIGNMENT_START_TIME column"
      ]
    },
    {
      "cell_type": "code",
      "metadata": {
        "colab": {
          "base_uri": "https://localhost:8080/"
        },
        "id": "t23P74SUnYGx",
        "outputId": "4c726303-ed9d-40ec-e196-ebe09f8a1ad7"
      },
      "source": [
        "total_df['ASSIGNMENT_START_TIME'].head()"
      ],
      "execution_count": 31,
      "outputs": [
        {
          "output_type": "execute_result",
          "data": {
            "text/plain": [
              "0   2021-02-13 03:08:24\n",
              "1   2021-02-14 05:06:40\n",
              "2   2021-02-15 02:22:40\n",
              "3   2021-02-15 03:01:25\n",
              "4   2021-02-15 03:12:24\n",
              "Name: ASSIGNMENT_START_TIME, dtype: datetime64[ns]"
            ]
          },
          "metadata": {
            "tags": []
          },
          "execution_count": 31
        }
      ]
    },
    {
      "cell_type": "markdown",
      "metadata": {
        "id": "gwvsKv2Nnqex"
      },
      "source": [
        "Now, we can see that the data type is converted to datetime."
      ]
    },
    {
      "cell_type": "code",
      "metadata": {
        "id": "AVKw2dlQo0Xo"
      },
      "source": [
        "total_df['ASSIGNMENT_START_TIME_date'] = total_df['ASSIGNMENT_START_TIME'].dt.date\n",
        "total_df['ASSIGNMENT_START_TIME_time'] = total_df['ASSIGNMENT_START_TIME'].dt.time\n",
        "total_df['ASSIGNMENT_START_TIME_year'] = total_df['ASSIGNMENT_START_TIME'].dt.year\n",
        "total_df['ASSIGNMENT_START_TIME_month'] = total_df['ASSIGNMENT_START_TIME'].dt.month\n",
        "total_df['ASSIGNMENT_START_TIME_day'] = total_df['ASSIGNMENT_START_TIME'].dt.day\n",
        "total_df['ASSIGNMENT_START_TIME_hour'] = total_df['ASSIGNMENT_START_TIME'].dt.hour\n",
        "total_df['ASSIGNMENT_START_TIME_minute'] = total_df['ASSIGNMENT_START_TIME'].dt.minute\n",
        "total_df['ASSIGNMENT_START_TIME_dayofweek'] = total_df['ASSIGNMENT_START_TIME'].dt.dayofweek\n",
        "\n",
        "total_df['SHIFT_END_TIME'] = shift_end.dt.time\n",
        "total_df['SHIFT_END_TIME_hour'] = shift_end.dt.hour\n",
        "total_df['SHIFT_END_TIME_min'] = shift_end.dt.minute\n",
        "\n",
        "total_df['DE_JOINING_DATE'] = joining.dt.date\n",
        "total_df['DE_JOINING_DATE_year'] = joining.dt.year\n",
        "total_df['DE_JOINING_DATE_month'] = joining.dt.month\n",
        "total_df['DE_JOINING_DATE_day'] = joining.dt.day"
      ],
      "execution_count": 32,
      "outputs": []
    },
    {
      "cell_type": "markdown",
      "metadata": {
        "id": "NIpB9_KED9pJ"
      },
      "source": [
        "Now, we will create two more features - difference between joining date and assignment of order date in months, difference between shift time and assignment of order time in hours"
      ]
    },
    {
      "cell_type": "code",
      "metadata": {
        "id": "uYdrIdPWehEB"
      },
      "source": [
        "total_df['diff_joining_assign'] = (((total_df['ASSIGNMENT_START_TIME_date']-total_df['DE_JOINING_DATE']).dt.days)/30).astype(int)\n",
        "total_df['diff_shift_assign'] = (total_df['SHIFT_END_TIME_hour']-total_df['ASSIGNMENT_START_TIME_hour'])"
      ],
      "execution_count": 33,
      "outputs": []
    },
    {
      "cell_type": "code",
      "metadata": {
        "id": "AL-NjbabXh13"
      },
      "source": [
        "total_df['zone_diff'] = (abs(total_df['CUSTOMER_ZONE']-total_df['DE_ZONE_ID']))"
      ],
      "execution_count": 34,
      "outputs": []
    },
    {
      "cell_type": "code",
      "metadata": {
        "colab": {
          "base_uri": "https://localhost:8080/"
        },
        "id": "CA9Y8Tbdaejb",
        "outputId": "2a54173f-4cce-4533-cdd8-fb187c29dab5"
      },
      "source": [
        "total_df.loc[:, 'zone_diff'].value_counts()"
      ],
      "execution_count": 35,
      "outputs": [
        {
          "output_type": "execute_result",
          "data": {
            "text/plain": [
              "0.0      55593\n",
              "1.0      10887\n",
              "3.0       9369\n",
              "2.0       8039\n",
              "249.0     5522\n",
              "469.0     4225\n",
              "252.0     3483\n",
              "467.0     3465\n",
              "44.0      2777\n",
              "217.0     2699\n",
              "466.0     1532\n",
              "173.0     1417\n",
              "250.0     1184\n",
              "296.0      931\n",
              "293.0      779\n",
              "251.0      676\n",
              "468.0      670\n",
              "294.0      415\n",
              "568.0       75\n",
              "295.0       44\n",
              "817.0       23\n",
              "524.0       13\n",
              "820.0       10\n",
              "351.0        6\n",
              "286.0        6\n",
              "819.0        6\n",
              "818.0        3\n",
              "459.0        2\n",
              "8.0          1\n",
              "10.0         1\n",
              "Name: zone_diff, dtype: int64"
            ]
          },
          "metadata": {
            "tags": []
          },
          "execution_count": 35
        }
      ]
    },
    {
      "cell_type": "code",
      "metadata": {
        "colab": {
          "base_uri": "https://localhost:8080/"
        },
        "id": "PdrXDHidaUqv",
        "outputId": "8f19354c-a991-4ff1-c0bd-eef8a61eaf86"
      },
      "source": [
        "total_df.loc[total_df['reject_ind']==0, 'zone_diff'].value_counts().index[:10]"
      ],
      "execution_count": 36,
      "outputs": [
        {
          "output_type": "execute_result",
          "data": {
            "text/plain": [
              "Float64Index([0.0, 1.0, 3.0, 2.0, 249.0, 469.0, 252.0, 467.0, 44.0, 217.0], dtype='float64')"
            ]
          },
          "metadata": {
            "tags": []
          },
          "execution_count": 36
        }
      ]
    },
    {
      "cell_type": "code",
      "metadata": {
        "colab": {
          "base_uri": "https://localhost:8080/"
        },
        "id": "2xTG6tY3ZT56",
        "outputId": "32b56233-4af9-4525-b9a9-46230fda0410"
      },
      "source": [
        "total_df.loc[total_df['reject_ind']==1, 'zone_diff'].value_counts().index[:10]"
      ],
      "execution_count": 37,
      "outputs": [
        {
          "output_type": "execute_result",
          "data": {
            "text/plain": [
              "Float64Index([0.0, 1.0, 3.0, 2.0, 249.0, 44.0, 252.0, 467.0, 217.0, 469.0], dtype='float64')"
            ]
          },
          "metadata": {
            "tags": []
          },
          "execution_count": 37
        }
      ]
    },
    {
      "cell_type": "markdown",
      "metadata": {
        "id": "8vNxygllazkV"
      },
      "source": [
        "Therefore we can see that if the zone difference between the delivery executive and the customer zone is around 0-4 then those delivery partners are assigned more orders in this range of zone difference. Also, if the zone difference is too high, delivery partners don't opt for those assigned orders."
      ]
    },
    {
      "cell_type": "code",
      "metadata": {
        "colab": {
          "base_uri": "https://localhost:8080/"
        },
        "id": "_fjB9WFiO-sS",
        "outputId": "42735b08-754c-4f12-c6c7-6b4772cc01fc"
      },
      "source": [
        "total_df['SHIFT_END_TIME'].unique()"
      ],
      "execution_count": 38,
      "outputs": [
        {
          "output_type": "execute_result",
          "data": {
            "text/plain": [
              "array([datetime.time(5, 42), datetime.time(6, 42), datetime.time(1, 42),\n",
              "       datetime.time(11, 42), datetime.time(8, 42), datetime.time(0, 42)],\n",
              "      dtype=object)"
            ]
          },
          "metadata": {
            "tags": []
          },
          "execution_count": 38
        }
      ]
    },
    {
      "cell_type": "markdown",
      "metadata": {
        "id": "sSxh6QQ1PZzw"
      },
      "source": [
        "From the above observation we can see that the shift end time are 6 unique values and as we know that in Swiggy the shift time of a delivery executive starts at 8 am and the delivery system at max continues till 12 am, so we can safely assume that the above timings given are in 12 hr format and all the shift timings end after 12 pm in a day. therefor we will change the time format to 24 hr format. Therefore adding 12 hrs to each of the above time and and 24 to 00 hr."
      ]
    },
    {
      "cell_type": "code",
      "metadata": {
        "id": "kSVeEbaEPXms"
      },
      "source": [
        "def shift_hours_add(hour):\n",
        "  if hour == 0:\n",
        "    hour = 24\n",
        "  else:\n",
        "    hour += 12\n",
        "  return hour\n",
        "\n",
        "# Converting SHIFT_END_TIME_hour to 24 hrs format\n",
        "total_df['SHIFT_END_TIME_hour'] = total_df['SHIFT_END_TIME_hour'].apply(lambda x: shift_hours_add(x))\n"
      ],
      "execution_count": 39,
      "outputs": []
    },
    {
      "cell_type": "code",
      "metadata": {
        "colab": {
          "base_uri": "https://localhost:8080/"
        },
        "id": "xk6t-JCCRtoB",
        "outputId": "d98c7701-4abb-4eff-e594-5d42b89780e6"
      },
      "source": [
        "total_df['SHIFT_END_TIME_hour'].unique()"
      ],
      "execution_count": 40,
      "outputs": [
        {
          "output_type": "execute_result",
          "data": {
            "text/plain": [
              "array([17, 18, 13, 23, 20, 24])"
            ]
          },
          "metadata": {
            "tags": []
          },
          "execution_count": 40
        }
      ]
    },
    {
      "cell_type": "code",
      "metadata": {
        "id": "RCIz_ePu8FgW"
      },
      "source": [
        "df_reject = total_df.loc[total_df['reject_ind']==1]\n",
        "# (total_df['ASSIGNMENT_START_TIME_hour']-total_df['SHIFT_END_TIME_hour']).unique()\n",
        "df_reject['diff_shift_assign'] = (df_reject['SHIFT_END_TIME_hour']-df_reject['ASSIGNMENT_START_TIME_hour'])"
      ],
      "execution_count": 42,
      "outputs": []
    },
    {
      "cell_type": "code",
      "metadata": {
        "colab": {
          "base_uri": "https://localhost:8080/",
          "height": 309
        },
        "id": "gYtDStiAPK-Y",
        "outputId": "43bd5bde-72c3-4267-a4ca-eb054072021a"
      },
      "source": [
        "df_reject.loc[df_reject['ASSIGNMENT_START_TIME_hour']<=5].head()"
      ],
      "execution_count": 43,
      "outputs": [
        {
          "output_type": "execute_result",
          "data": {
            "text/html": [
              "<div>\n",
              "<style scoped>\n",
              "    .dataframe tbody tr th:only-of-type {\n",
              "        vertical-align: middle;\n",
              "    }\n",
              "\n",
              "    .dataframe tbody tr th {\n",
              "        vertical-align: top;\n",
              "    }\n",
              "\n",
              "    .dataframe thead th {\n",
              "        text-align: right;\n",
              "    }\n",
              "</style>\n",
              "<table border=\"1\" class=\"dataframe\">\n",
              "  <thead>\n",
              "    <tr style=\"text-align: right;\">\n",
              "      <th></th>\n",
              "      <th>ORDER_ID</th>\n",
              "      <th>DE_ID</th>\n",
              "      <th>ASSIGNMENT_START_TIME</th>\n",
              "      <th>ASSIGNMENT_END_TIME</th>\n",
              "      <th>reject_ind</th>\n",
              "      <th>reject_type</th>\n",
              "      <th>PLACED_TIME</th>\n",
              "      <th>DELIVERED_TIME</th>\n",
              "      <th>LASTMILE_DISTANCE</th>\n",
              "      <th>FIRSTMILE_DISTANCE</th>\n",
              "      <th>LAST_MILE_TIME_PREDICTED</th>\n",
              "      <th>PAYOUT_MADE_TO_DE</th>\n",
              "      <th>NUM_PING_COUNT_LAST10MIN</th>\n",
              "      <th>LAST_PING_TIME_LAST10MIN</th>\n",
              "      <th>CUSTOMER_ZONE</th>\n",
              "      <th>CUSTOMER_LAT</th>\n",
              "      <th>CUSTOMER_LNG</th>\n",
              "      <th>SHIFT_END_TIME</th>\n",
              "      <th>DE_HOME_LAT</th>\n",
              "      <th>DE_HOME_LNG</th>\n",
              "      <th>DE_JOINING_DATE</th>\n",
              "      <th>DE_ZONE_ID</th>\n",
              "      <th>ASSIGNMENT_START_TIME_date</th>\n",
              "      <th>ASSIGNMENT_START_TIME_time</th>\n",
              "      <th>ASSIGNMENT_START_TIME_year</th>\n",
              "      <th>ASSIGNMENT_START_TIME_month</th>\n",
              "      <th>ASSIGNMENT_START_TIME_day</th>\n",
              "      <th>ASSIGNMENT_START_TIME_hour</th>\n",
              "      <th>ASSIGNMENT_START_TIME_minute</th>\n",
              "      <th>ASSIGNMENT_START_TIME_dayofweek</th>\n",
              "      <th>SHIFT_END_TIME_hour</th>\n",
              "      <th>SHIFT_END_TIME_min</th>\n",
              "      <th>DE_JOINING_DATE_year</th>\n",
              "      <th>DE_JOINING_DATE_month</th>\n",
              "      <th>DE_JOINING_DATE_day</th>\n",
              "      <th>diff_joining_assign</th>\n",
              "      <th>diff_shift_assign</th>\n",
              "      <th>zone_diff</th>\n",
              "    </tr>\n",
              "  </thead>\n",
              "  <tbody>\n",
              "    <tr>\n",
              "      <th>38</th>\n",
              "      <td>67253</td>\n",
              "      <td>1186729</td>\n",
              "      <td>2021-02-24 05:14:34</td>\n",
              "      <td>2021-02-24 05:17:33.000</td>\n",
              "      <td>1</td>\n",
              "      <td>Type-2</td>\n",
              "      <td>2021-02-24 05:04:31.363</td>\n",
              "      <td>2021-02-24 05:38:00.000</td>\n",
              "      <td>397.1</td>\n",
              "      <td>447.8</td>\n",
              "      <td>376.5</td>\n",
              "      <td>0.0</td>\n",
              "      <td>9</td>\n",
              "      <td>2021-02-24 05:14:19.000</td>\n",
              "      <td>373.0</td>\n",
              "      <td>37.376211</td>\n",
              "      <td>72.829547</td>\n",
              "      <td>05:42:00</td>\n",
              "      <td>37.386463</td>\n",
              "      <td>72.854589</td>\n",
              "      <td>2019-04-05</td>\n",
              "      <td>372</td>\n",
              "      <td>2021-02-24</td>\n",
              "      <td>05:14:34</td>\n",
              "      <td>2021</td>\n",
              "      <td>2</td>\n",
              "      <td>24</td>\n",
              "      <td>5</td>\n",
              "      <td>14</td>\n",
              "      <td>2</td>\n",
              "      <td>17</td>\n",
              "      <td>42</td>\n",
              "      <td>2019</td>\n",
              "      <td>4</td>\n",
              "      <td>5</td>\n",
              "      <td>23</td>\n",
              "      <td>12</td>\n",
              "      <td>1.0</td>\n",
              "    </tr>\n",
              "    <tr>\n",
              "      <th>44</th>\n",
              "      <td>81535</td>\n",
              "      <td>1339906</td>\n",
              "      <td>2021-02-26 05:26:33</td>\n",
              "      <td>2021-02-26 05:30:30.000</td>\n",
              "      <td>1</td>\n",
              "      <td>Type-1</td>\n",
              "      <td>2021-02-26 05:21:48.465</td>\n",
              "      <td>2021-02-26 05:59:32.000</td>\n",
              "      <td>512.9</td>\n",
              "      <td>336.8</td>\n",
              "      <td>417.0</td>\n",
              "      <td>0.0</td>\n",
              "      <td>65</td>\n",
              "      <td>2021-02-26 05:26:18.000</td>\n",
              "      <td>373.0</td>\n",
              "      <td>37.376206</td>\n",
              "      <td>72.814922</td>\n",
              "      <td>06:42:00</td>\n",
              "      <td>37.407575</td>\n",
              "      <td>72.822828</td>\n",
              "      <td>2019-06-11</td>\n",
              "      <td>375</td>\n",
              "      <td>2021-02-26</td>\n",
              "      <td>05:26:33</td>\n",
              "      <td>2021</td>\n",
              "      <td>2</td>\n",
              "      <td>26</td>\n",
              "      <td>5</td>\n",
              "      <td>26</td>\n",
              "      <td>4</td>\n",
              "      <td>18</td>\n",
              "      <td>42</td>\n",
              "      <td>2019</td>\n",
              "      <td>6</td>\n",
              "      <td>11</td>\n",
              "      <td>20</td>\n",
              "      <td>13</td>\n",
              "      <td>2.0</td>\n",
              "    </tr>\n",
              "    <tr>\n",
              "      <th>47</th>\n",
              "      <td>86851</td>\n",
              "      <td>263776</td>\n",
              "      <td>2021-02-27 05:32:33</td>\n",
              "      <td>2021-02-27 05:35:33.000</td>\n",
              "      <td>1</td>\n",
              "      <td>Type-4</td>\n",
              "      <td>2021-02-27 05:25:10.639</td>\n",
              "      <td>2021-02-27 06:03:22.000</td>\n",
              "      <td>527.3</td>\n",
              "      <td>405.5</td>\n",
              "      <td>410.8</td>\n",
              "      <td>0.0</td>\n",
              "      <td>16</td>\n",
              "      <td>2021-02-27 05:31:27.000</td>\n",
              "      <td>373.0</td>\n",
              "      <td>37.375672</td>\n",
              "      <td>72.800895</td>\n",
              "      <td>06:42:00</td>\n",
              "      <td>37.425862</td>\n",
              "      <td>72.831065</td>\n",
              "      <td>2020-05-03</td>\n",
              "      <td>375</td>\n",
              "      <td>2021-02-27</td>\n",
              "      <td>05:32:33</td>\n",
              "      <td>2021</td>\n",
              "      <td>2</td>\n",
              "      <td>27</td>\n",
              "      <td>5</td>\n",
              "      <td>32</td>\n",
              "      <td>5</td>\n",
              "      <td>18</td>\n",
              "      <td>42</td>\n",
              "      <td>2020</td>\n",
              "      <td>5</td>\n",
              "      <td>3</td>\n",
              "      <td>10</td>\n",
              "      <td>13</td>\n",
              "      <td>2.0</td>\n",
              "    </tr>\n",
              "    <tr>\n",
              "      <th>56</th>\n",
              "      <td>101742</td>\n",
              "      <td>392348</td>\n",
              "      <td>2021-03-02 02:39:20</td>\n",
              "      <td>2021-03-02 02:42:20.000</td>\n",
              "      <td>1</td>\n",
              "      <td>Type-2</td>\n",
              "      <td>2021-03-02 02:32:47.165</td>\n",
              "      <td>2021-03-02 03:32:32.000</td>\n",
              "      <td>556.1</td>\n",
              "      <td>436.7</td>\n",
              "      <td>486.7</td>\n",
              "      <td>0.0</td>\n",
              "      <td>5</td>\n",
              "      <td>2021-03-02 02:31:43.000</td>\n",
              "      <td>373.0</td>\n",
              "      <td>37.376254</td>\n",
              "      <td>72.806285</td>\n",
              "      <td>06:42:00</td>\n",
              "      <td>37.415991</td>\n",
              "      <td>72.831829</td>\n",
              "      <td>2020-09-12</td>\n",
              "      <td>375</td>\n",
              "      <td>2021-03-02</td>\n",
              "      <td>02:39:20</td>\n",
              "      <td>2021</td>\n",
              "      <td>3</td>\n",
              "      <td>2</td>\n",
              "      <td>2</td>\n",
              "      <td>39</td>\n",
              "      <td>1</td>\n",
              "      <td>18</td>\n",
              "      <td>42</td>\n",
              "      <td>2020</td>\n",
              "      <td>9</td>\n",
              "      <td>12</td>\n",
              "      <td>5</td>\n",
              "      <td>16</td>\n",
              "      <td>2.0</td>\n",
              "    </tr>\n",
              "    <tr>\n",
              "      <th>103</th>\n",
              "      <td>49534</td>\n",
              "      <td>379318</td>\n",
              "      <td>2021-02-21 03:58:03</td>\n",
              "      <td>2021-02-21 03:58:28.000</td>\n",
              "      <td>1</td>\n",
              "      <td>Type-1</td>\n",
              "      <td>2021-02-21 03:51:40.965</td>\n",
              "      <td>2021-02-21 04:44:49.000</td>\n",
              "      <td>419.3</td>\n",
              "      <td>380.6</td>\n",
              "      <td>399.2</td>\n",
              "      <td>0.0</td>\n",
              "      <td>2</td>\n",
              "      <td>2021-02-21 03:57:47.000</td>\n",
              "      <td>373.0</td>\n",
              "      <td>37.375656</td>\n",
              "      <td>72.828943</td>\n",
              "      <td>06:42:00</td>\n",
              "      <td>37.413824</td>\n",
              "      <td>72.846072</td>\n",
              "      <td>2020-08-30</td>\n",
              "      <td>375</td>\n",
              "      <td>2021-02-21</td>\n",
              "      <td>03:58:03</td>\n",
              "      <td>2021</td>\n",
              "      <td>2</td>\n",
              "      <td>21</td>\n",
              "      <td>3</td>\n",
              "      <td>58</td>\n",
              "      <td>6</td>\n",
              "      <td>18</td>\n",
              "      <td>42</td>\n",
              "      <td>2020</td>\n",
              "      <td>8</td>\n",
              "      <td>30</td>\n",
              "      <td>5</td>\n",
              "      <td>15</td>\n",
              "      <td>2.0</td>\n",
              "    </tr>\n",
              "  </tbody>\n",
              "</table>\n",
              "</div>"
            ],
            "text/plain": [
              "     ORDER_ID    DE_ID  ... diff_shift_assign zone_diff\n",
              "38      67253  1186729  ...                12       1.0\n",
              "44      81535  1339906  ...                13       2.0\n",
              "47      86851   263776  ...                13       2.0\n",
              "56     101742   392348  ...                16       2.0\n",
              "103     49534   379318  ...                15       2.0\n",
              "\n",
              "[5 rows x 38 columns]"
            ]
          },
          "metadata": {
            "tags": []
          },
          "execution_count": 43
        }
      ]
    },
    {
      "cell_type": "code",
      "metadata": {
        "colab": {
          "base_uri": "https://localhost:8080/"
        },
        "id": "ongIdOckR-hj",
        "outputId": "0892a8fc-c83b-4ab2-d98e-2b5cef993557"
      },
      "source": [
        "df_reject['SHIFT_END_TIME_hour'].value_counts()"
      ],
      "execution_count": 44,
      "outputs": [
        {
          "output_type": "execute_result",
          "data": {
            "text/plain": [
              "17    3253\n",
              "18    2560\n",
              "13     945\n",
              "20     634\n",
              "23     497\n",
              "24     159\n",
              "Name: SHIFT_END_TIME_hour, dtype: int64"
            ]
          },
          "metadata": {
            "tags": []
          },
          "execution_count": 44
        }
      ]
    },
    {
      "cell_type": "markdown",
      "metadata": {
        "id": "QVPMq4nNVWyj"
      },
      "source": [
        "Most of the delivery partners whose shift time ends at 5-6pm tends to reject assigned order."
      ]
    },
    {
      "cell_type": "code",
      "metadata": {
        "colab": {
          "base_uri": "https://localhost:8080/"
        },
        "id": "8JXu3rwxOs4a",
        "outputId": "0693bcde-2779-4494-8176-6ac6b8f5f637"
      },
      "source": [
        "df_reject['diff_joining_assign'].unique()"
      ],
      "execution_count": 45,
      "outputs": [
        {
          "output_type": "execute_result",
          "data": {
            "text/plain": [
              "array([  28,   23,   20,   10,    5,   33,   32,    6,   25,   26,   22,\n",
              "          9,    7,   15,   21,   17,   27,   30,   31,   34,   29,   16,\n",
              "          8,   11,   19,   18,   12,   24, -243,    4,   14])"
            ]
          },
          "metadata": {
            "tags": []
          },
          "execution_count": 45
        }
      ]
    },
    {
      "cell_type": "code",
      "metadata": {
        "colab": {
          "base_uri": "https://localhost:8080/"
        },
        "id": "00x0TNKaebnB",
        "outputId": "47178e40-eb57-4404-8f8f-525e3234e16d"
      },
      "source": [
        "df_reject['diff_joining_assign'].value_counts()[:10]"
      ],
      "execution_count": 46,
      "outputs": [
        {
          "output_type": "execute_result",
          "data": {
            "text/plain": [
              "6     1262\n",
              "5     1065\n",
              "9      776\n",
              "7      500\n",
              "23     493\n",
              "22     492\n",
              "27     409\n",
              "26     377\n",
              "10     308\n",
              "21     298\n",
              "Name: diff_joining_assign, dtype: int64"
            ]
          },
          "metadata": {
            "tags": []
          },
          "execution_count": 46
        }
      ]
    },
    {
      "cell_type": "code",
      "metadata": {
        "colab": {
          "base_uri": "https://localhost:8080/"
        },
        "id": "pybpLLape_Qm",
        "outputId": "8ab08269-81af-4937-d787-b677b376b0f1"
      },
      "source": [
        "total_df['diff_joining_assign'].value_counts()[:10]"
      ],
      "execution_count": 47,
      "outputs": [
        {
          "output_type": "execute_result",
          "data": {
            "text/plain": [
              "6     20743\n",
              "5     15519\n",
              "9     10245\n",
              "22    10152\n",
              "7      9045\n",
              "27     7075\n",
              "23     6776\n",
              "26     6250\n",
              "21     5527\n",
              "10     5356\n",
              "Name: diff_joining_assign, dtype: int64"
            ]
          },
          "metadata": {
            "tags": []
          },
          "execution_count": 47
        }
      ]
    },
    {
      "cell_type": "code",
      "metadata": {
        "id": "4Ak4pBBkEVsP"
      },
      "source": [
        "df_3 = total_df.groupby('diff_joining_assign').filter(lambda x: len(x) > 5300)"
      ],
      "execution_count": 48,
      "outputs": []
    },
    {
      "cell_type": "code",
      "metadata": {
        "colab": {
          "base_uri": "https://localhost:8080/",
          "height": 334
        },
        "id": "0s2DnAd5_x5u",
        "outputId": "ae7f659f-6049-4afb-be1a-207394829f4c"
      },
      "source": [
        "fig = plt.figure(figsize = (5, 5))\n",
        "sns.countplot(data = df_3,\n",
        "            x = 'diff_joining_assign',\n",
        "            hue = 'reject_ind',\n",
        "            order = df_3['diff_joining_assign'].value_counts().index)\n",
        "\n",
        "plt.xlabel(\"Months joined\")\n",
        "plt.ylabel(\"Count of orders\")\n",
        "plt.show()"
      ],
      "execution_count": 49,
      "outputs": [
        {
          "output_type": "display_data",
          "data": {
            "image/png": "[encoded data removed]",
            "text/plain": [
              "<Figure size 360x360 with 1 Axes>"
            ]
          },
          "metadata": {
            "tags": [],
            "needs_background": "light"
          }
        }
      ]
    },
    {
      "cell_type": "markdown",
      "metadata": {
        "id": "PIt6QJgm_NMP"
      },
      "source": [
        "We can see that a delivery executive who has joined recently in the last 5-6 months tends to take more orders and these DE also rejects the most number of assigned orders"
      ]
    },
    {
      "cell_type": "code",
      "metadata": {
        "colab": {
          "base_uri": "https://localhost:8080/"
        },
        "id": "y2Eloa1UC46w",
        "outputId": "972172ff-0f37-47e3-e9d9-126fba4f299d"
      },
      "source": [
        "total_df.loc[total_df['reject_ind']==1].groupby('ASSIGNMENT_START_TIME_dayofweek').size()"
      ],
      "execution_count": 50,
      "outputs": [
        {
          "output_type": "execute_result",
          "data": {
            "text/plain": [
              "ASSIGNMENT_START_TIME_dayofweek\n",
              "0    1005\n",
              "1    1102\n",
              "2    1197\n",
              "3    1260\n",
              "4    1190\n",
              "5    1129\n",
              "6    1165\n",
              "dtype: int64"
            ]
          },
          "metadata": {
            "tags": []
          },
          "execution_count": 50
        }
      ]
    },
    {
      "cell_type": "markdown",
      "metadata": {
        "id": "Q00D458sGv1H"
      },
      "source": [
        "The data is balanced here that means which day of week the order is assigned doesn't affect much the reject in assignmens by delivery partner. "
      ]
    },
    {
      "cell_type": "code",
      "metadata": {
        "colab": {
          "base_uri": "https://localhost:8080/",
          "height": 350
        },
        "id": "n0epXbnhLqhY",
        "outputId": "2409c602-8103-4964-a88a-a37f2be56fa5"
      },
      "source": [
        "dict1 = dict(total_df.loc[total_df['reject_ind']==1].groupby('ASSIGNMENT_START_TIME_dayofweek').size())\n",
        "fig = plt.figure(figsize = (8, 5))\n",
        "\n",
        "sns.barplot(x=list(dict1.keys()), y=list(dict1.values()))\n",
        "\n",
        "plt.xlabel(\"Weekday\")\n",
        "plt.ylabel(\"Number of rejected orders\")\n",
        "plt.title(\"Count of rejected assigned orders vs weekddays\")\n",
        "plt.show()"
      ],
      "execution_count": 51,
      "outputs": [
        {
          "output_type": "display_data",
          "data": {
            "image/png": "[encoded data removed]",
            "text/plain": [
              "<Figure size 576x360 with 1 Axes>"
            ]
          },
          "metadata": {
            "tags": [],
            "needs_background": "light"
          }
        }
      ]
    },
    {
      "cell_type": "markdown",
      "metadata": {
        "id": "kslt3-pXPyuR"
      },
      "source": [
        "Here we can see that maximum rejected assigned orders happen on Thursday whereas least occurs on SUnday."
      ]
    },
    {
      "cell_type": "code",
      "metadata": {
        "colab": {
          "base_uri": "https://localhost:8080/",
          "height": 491
        },
        "id": "KZsWEnk-LBma",
        "outputId": "65b0f233-d3c1-4005-ec2a-c865262a28c9"
      },
      "source": [
        "sns.FacetGrid(total_df, hue='reject_ind', size=5).map(sns.distplot, 'ASSIGNMENT_START_TIME_dayofweek').add_legend()\n",
        "plt.show()"
      ],
      "execution_count": 52,
      "outputs": [
        {
          "output_type": "stream",
          "text": [
            "/usr/local/lib/python3.7/dist-packages/seaborn/axisgrid.py:316: UserWarning: The `size` parameter has been renamed to `height`; please update your code.\n",
            "  warnings.warn(msg, UserWarning)\n",
            "/usr/local/lib/python3.7/dist-packages/seaborn/distributions.py:2557: FutureWarning: `distplot` is a deprecated function and will be removed in a future version. Please adapt your code to use either `displot` (a figure-level function with similar flexibility) or `histplot` (an axes-level function for histograms).\n",
            "  warnings.warn(msg, FutureWarning)\n",
            "/usr/local/lib/python3.7/dist-packages/seaborn/distributions.py:2557: FutureWarning: `distplot` is a deprecated function and will be removed in a future version. Please adapt your code to use either `displot` (a figure-level function with similar flexibility) or `histplot` (an axes-level function for histograms).\n",
            "  warnings.warn(msg, FutureWarning)\n"
          ],
          "name": "stderr"
        },
        {
          "output_type": "display_data",
          "data": {
            "image/png": "[encoded data removed]",
            "text/plain": [
              "<Figure size 417x360 with 1 Axes>"
            ]
          },
          "metadata": {
            "tags": [],
            "needs_background": "light"
          }
        }
      ]
    },
    {
      "cell_type": "markdown",
      "metadata": {
        "id": "k4iMkAwDQLAS"
      },
      "source": [
        "Here from the distribution plot the distribution of rejected assigned orders seems balanced. Maximum number of rejection of assigned orders we have seen previously during Thursday because there are maximum number of total orders on Thursday."
      ]
    },
    {
      "cell_type": "code",
      "metadata": {
        "colab": {
          "base_uri": "https://localhost:8080/",
          "height": 213
        },
        "id": "k7xIVHOmnP6T",
        "outputId": "3f1d04f8-081c-4277-cbf5-6a370f8f0c42"
      },
      "source": [
        "total_df.sample(3)"
      ],
      "execution_count": 54,
      "outputs": [
        {
          "output_type": "execute_result",
          "data": {
            "text/html": [
              "<div>\n",
              "<style scoped>\n",
              "    .dataframe tbody tr th:only-of-type {\n",
              "        vertical-align: middle;\n",
              "    }\n",
              "\n",
              "    .dataframe tbody tr th {\n",
              "        vertical-align: top;\n",
              "    }\n",
              "\n",
              "    .dataframe thead th {\n",
              "        text-align: right;\n",
              "    }\n",
              "</style>\n",
              "<table border=\"1\" class=\"dataframe\">\n",
              "  <thead>\n",
              "    <tr style=\"text-align: right;\">\n",
              "      <th></th>\n",
              "      <th>ORDER_ID</th>\n",
              "      <th>DE_ID</th>\n",
              "      <th>ASSIGNMENT_START_TIME</th>\n",
              "      <th>ASSIGNMENT_END_TIME</th>\n",
              "      <th>reject_ind</th>\n",
              "      <th>reject_type</th>\n",
              "      <th>PLACED_TIME</th>\n",
              "      <th>DELIVERED_TIME</th>\n",
              "      <th>LASTMILE_DISTANCE</th>\n",
              "      <th>FIRSTMILE_DISTANCE</th>\n",
              "      <th>LAST_MILE_TIME_PREDICTED</th>\n",
              "      <th>PAYOUT_MADE_TO_DE</th>\n",
              "      <th>NUM_PING_COUNT_LAST10MIN</th>\n",
              "      <th>LAST_PING_TIME_LAST10MIN</th>\n",
              "      <th>CUSTOMER_ZONE</th>\n",
              "      <th>CUSTOMER_LAT</th>\n",
              "      <th>CUSTOMER_LNG</th>\n",
              "      <th>SHIFT_END_TIME</th>\n",
              "      <th>DE_HOME_LAT</th>\n",
              "      <th>DE_HOME_LNG</th>\n",
              "      <th>DE_JOINING_DATE</th>\n",
              "      <th>DE_ZONE_ID</th>\n",
              "      <th>ASSIGNMENT_START_TIME_date</th>\n",
              "      <th>ASSIGNMENT_START_TIME_time</th>\n",
              "      <th>ASSIGNMENT_START_TIME_year</th>\n",
              "      <th>ASSIGNMENT_START_TIME_month</th>\n",
              "      <th>ASSIGNMENT_START_TIME_day</th>\n",
              "      <th>ASSIGNMENT_START_TIME_hour</th>\n",
              "      <th>ASSIGNMENT_START_TIME_minute</th>\n",
              "      <th>ASSIGNMENT_START_TIME_dayofweek</th>\n",
              "      <th>SHIFT_END_TIME_hour</th>\n",
              "      <th>SHIFT_END_TIME_min</th>\n",
              "      <th>DE_JOINING_DATE_year</th>\n",
              "      <th>DE_JOINING_DATE_month</th>\n",
              "      <th>DE_JOINING_DATE_day</th>\n",
              "      <th>diff_joining_assign</th>\n",
              "      <th>diff_shift_assign</th>\n",
              "      <th>zone_diff</th>\n",
              "    </tr>\n",
              "  </thead>\n",
              "  <tbody>\n",
              "    <tr>\n",
              "      <th>97023</th>\n",
              "      <td>120986</td>\n",
              "      <td>122229</td>\n",
              "      <td>2021-03-05 02:32:04</td>\n",
              "      <td>2021-03-05 03:05:55.000</td>\n",
              "      <td>0</td>\n",
              "      <td>NaN</td>\n",
              "      <td>2021-03-05 02:25:33.412</td>\n",
              "      <td>2021-03-05 03:10:55.000</td>\n",
              "      <td>344.9</td>\n",
              "      <td>419.3</td>\n",
              "      <td>324.3</td>\n",
              "      <td>2260.0</td>\n",
              "      <td>39</td>\n",
              "      <td>2021-03-05 02:31:52.000</td>\n",
              "      <td>372.0</td>\n",
              "      <td>37.384954</td>\n",
              "      <td>72.846530</td>\n",
              "      <td>05:42:00</td>\n",
              "      <td>37.391511</td>\n",
              "      <td>72.858363</td>\n",
              "      <td>2019-09-02</td>\n",
              "      <td>372</td>\n",
              "      <td>2021-03-05</td>\n",
              "      <td>02:32:04</td>\n",
              "      <td>2021</td>\n",
              "      <td>3</td>\n",
              "      <td>5</td>\n",
              "      <td>2</td>\n",
              "      <td>32</td>\n",
              "      <td>4</td>\n",
              "      <td>17</td>\n",
              "      <td>42</td>\n",
              "      <td>2019</td>\n",
              "      <td>9</td>\n",
              "      <td>2</td>\n",
              "      <td>18</td>\n",
              "      <td>3</td>\n",
              "      <td>0.0</td>\n",
              "    </tr>\n",
              "    <tr>\n",
              "      <th>19571</th>\n",
              "      <td>10029</td>\n",
              "      <td>908998</td>\n",
              "      <td>2021-02-14 05:56:24</td>\n",
              "      <td>2021-02-14 06:21:25.000</td>\n",
              "      <td>0</td>\n",
              "      <td>NaN</td>\n",
              "      <td>2021-02-14 05:53:21.481</td>\n",
              "      <td>2021-02-14 06:26:25.000</td>\n",
              "      <td>424.7</td>\n",
              "      <td>369.8</td>\n",
              "      <td>399.2</td>\n",
              "      <td>2760.0</td>\n",
              "      <td>48</td>\n",
              "      <td>2021-02-14 05:55:49.000</td>\n",
              "      <td>375.0</td>\n",
              "      <td>37.402871</td>\n",
              "      <td>72.832625</td>\n",
              "      <td>11:42:00</td>\n",
              "      <td>37.428683</td>\n",
              "      <td>72.848385</td>\n",
              "      <td>2018-11-19</td>\n",
              "      <td>372</td>\n",
              "      <td>2021-02-14</td>\n",
              "      <td>05:56:24</td>\n",
              "      <td>2021</td>\n",
              "      <td>2</td>\n",
              "      <td>14</td>\n",
              "      <td>5</td>\n",
              "      <td>56</td>\n",
              "      <td>6</td>\n",
              "      <td>23</td>\n",
              "      <td>42</td>\n",
              "      <td>2018</td>\n",
              "      <td>11</td>\n",
              "      <td>19</td>\n",
              "      <td>27</td>\n",
              "      <td>6</td>\n",
              "      <td>3.0</td>\n",
              "    </tr>\n",
              "    <tr>\n",
              "      <th>98554</th>\n",
              "      <td>12312</td>\n",
              "      <td>1249476</td>\n",
              "      <td>2021-02-14 22:48:40</td>\n",
              "      <td>2021-02-14 23:05:10.000</td>\n",
              "      <td>0</td>\n",
              "      <td>NaN</td>\n",
              "      <td>2021-02-14 22:25:40.136</td>\n",
              "      <td>2021-02-14 23:10:10.000</td>\n",
              "      <td>408.2</td>\n",
              "      <td>339.5</td>\n",
              "      <td>362.2</td>\n",
              "      <td>2960.0</td>\n",
              "      <td>3</td>\n",
              "      <td>2021-02-14 22:47:57.000</td>\n",
              "      <td>372.0</td>\n",
              "      <td>37.388261</td>\n",
              "      <td>72.863325</td>\n",
              "      <td>11:42:00</td>\n",
              "      <td>37.382760</td>\n",
              "      <td>72.873082</td>\n",
              "      <td>2019-05-04</td>\n",
              "      <td>372</td>\n",
              "      <td>2021-02-14</td>\n",
              "      <td>22:48:40</td>\n",
              "      <td>2021</td>\n",
              "      <td>2</td>\n",
              "      <td>14</td>\n",
              "      <td>22</td>\n",
              "      <td>48</td>\n",
              "      <td>6</td>\n",
              "      <td>23</td>\n",
              "      <td>42</td>\n",
              "      <td>2019</td>\n",
              "      <td>5</td>\n",
              "      <td>4</td>\n",
              "      <td>21</td>\n",
              "      <td>-11</td>\n",
              "      <td>0.0</td>\n",
              "    </tr>\n",
              "  </tbody>\n",
              "</table>\n",
              "</div>"
            ],
            "text/plain": [
              "       ORDER_ID    DE_ID  ... diff_shift_assign zone_diff\n",
              "97023    120986   122229  ...                 3       0.0\n",
              "19571     10029   908998  ...                 6       3.0\n",
              "98554     12312  1249476  ...               -11       0.0\n",
              "\n",
              "[3 rows x 38 columns]"
            ]
          },
          "metadata": {
            "tags": []
          },
          "execution_count": 54
        }
      ]
    },
    {
      "cell_type": "code",
      "metadata": {
        "colab": {
          "base_uri": "https://localhost:8080/"
        },
        "id": "cQkofwKunwIT",
        "outputId": "f5f597ed-5fd5-4637-99c1-4291f4d5a9e8"
      },
      "source": [
        "total_df['ASSIGNMENT_START_TIME'].dt.year.unique()"
      ],
      "execution_count": 55,
      "outputs": [
        {
          "output_type": "execute_result",
          "data": {
            "text/plain": [
              "array([2021])"
            ]
          },
          "metadata": {
            "tags": []
          },
          "execution_count": 55
        }
      ]
    },
    {
      "cell_type": "code",
      "metadata": {
        "colab": {
          "base_uri": "https://localhost:8080/"
        },
        "id": "F9AnLjI_tthE",
        "outputId": "e13a8e85-03b1-4184-9cc5-227a7e33a499"
      },
      "source": [
        "total_df['ASSIGNMENT_START_TIME_hour'].unique()"
      ],
      "execution_count": 56,
      "outputs": [
        {
          "output_type": "execute_result",
          "data": {
            "text/plain": [
              "array([ 3,  5,  2,  4, 18,  1,  7, 10, 22,  6, 19, 20, 23, 21,  9,  0, 17,\n",
              "        8, 16, 11, 15, 14, 12])"
            ]
          },
          "metadata": {
            "tags": []
          },
          "execution_count": 56
        }
      ]
    },
    {
      "cell_type": "code",
      "metadata": {
        "colab": {
          "base_uri": "https://localhost:8080/"
        },
        "id": "5jLqrwvgvPnY",
        "outputId": "bae0df6b-0cb6-4dc1-a3dd-7e80924e5af7"
      },
      "source": [
        "total_df['ASSIGNMENT_START_TIME_month'].unique()"
      ],
      "execution_count": 57,
      "outputs": [
        {
          "output_type": "execute_result",
          "data": {
            "text/plain": [
              "array([2, 3])"
            ]
          },
          "metadata": {
            "tags": []
          },
          "execution_count": 57
        }
      ]
    },
    {
      "cell_type": "markdown",
      "metadata": {
        "id": "lia6qh_22Pw6"
      },
      "source": [
        "We have data of the month of February and March of year 2021"
      ]
    },
    {
      "cell_type": "code",
      "metadata": {
        "colab": {
          "base_uri": "https://localhost:8080/"
        },
        "id": "j-EMwL5U2LxH",
        "outputId": "7c903278-626b-4193-9b97-3a518087ae8b"
      },
      "source": [
        "total_df['ASSIGNMENT_START_TIME_dayofweek'].unique()"
      ],
      "execution_count": 58,
      "outputs": [
        {
          "output_type": "execute_result",
          "data": {
            "text/plain": [
              "array([5, 6, 0, 1, 2, 3, 4])"
            ]
          },
          "metadata": {
            "tags": []
          },
          "execution_count": 58
        }
      ]
    },
    {
      "cell_type": "code",
      "metadata": {
        "colab": {
          "base_uri": "https://localhost:8080/"
        },
        "id": "t1C-afVne0dK",
        "outputId": "44fe8239-e039-45ae-9649-c38763dd2476"
      },
      "source": [
        "total_df.sort_values(by='ASSIGNMENT_START_TIME_date').groupby(['DE_ID', 'ASSIGNMENT_START_TIME_date']).cumcount()"
      ],
      "execution_count": 59,
      "outputs": [
        {
          "output_type": "execute_result",
          "data": {
            "text/plain": [
              "29959      0\n",
              "67183      0\n",
              "67184      0\n",
              "14177      0\n",
              "14178      0\n",
              "          ..\n",
              "96084      3\n",
              "96085     11\n",
              "96086     14\n",
              "95767     12\n",
              "132393     9\n",
              "Length: 132394, dtype: int64"
            ]
          },
          "metadata": {
            "tags": []
          },
          "execution_count": 59
        }
      ]
    },
    {
      "cell_type": "code",
      "metadata": {
        "id": "OiOdq7mZXXfU"
      },
      "source": [
        "# importing sklearn and its modules\n",
        "from sklearn.model_selection import train_test_split\n",
        "from sklearn import model_selection, preprocessing, linear_model, naive_bayes, metrics, svm\n",
        "from sklearn import feature_extraction, preprocessing, model_selection, linear_model\n",
        "from sklearn.feature_extraction.text import CountVectorizer\n",
        "from sklearn.feature_extraction.text import TfidfVectorizer\n",
        "from sklearn.model_selection import GridSearchCV\n",
        "from sklearn.linear_model import LogisticRegression\n",
        "from sklearn.model_selection import StratifiedKFold, cross_val_score, cross_val_predict\n",
        "from sklearn import decomposition, ensemble\n",
        "from sklearn.metrics import mean_squared_error\n",
        "from sklearn.model_selection import RepeatedKFold\n",
        "from sklearn.metrics import roc_auc_score, accuracy_score, precision_score, recall_score, classification_report, confusion_matrix\n",
        "from sklearn.ensemble import RandomForestClassifier\n",
        "from xgboost import XGBClassifier\n",
        "from sklearn.model_selection import RepeatedStratifiedKFold"
      ],
      "execution_count": 67,
      "outputs": []
    },
    {
      "cell_type": "code",
      "metadata": {
        "colab": {
          "base_uri": "https://localhost:8080/"
        },
        "id": "7Pmz3h5u8j_m",
        "outputId": "93a15026-fd46-4da4-cb54-bb21fc3061e8"
      },
      "source": [
        "df = total_df[['LASTMILE_DISTANCE', 'FIRSTMILE_DISTANCE', 'LAST_MILE_TIME_PREDICTED', 'CUSTOMER_LAT',\n",
        "       'CUSTOMER_LNG', 'DE_HOME_LAT', 'DE_HOME_LNG','ASSIGNMENT_START_TIME_year',\n",
        "       'ASSIGNMENT_START_TIME_hour', 'ASSIGNMENT_START_TIME_dayofweek', 'SHIFT_END_TIME_hour', 'DE_JOINING_DATE_year', 'diff_joining_assign', 'reject_ind']]\n",
        "df.isnull().sum()"
      ],
      "execution_count": 60,
      "outputs": [
        {
          "output_type": "execute_result",
          "data": {
            "text/plain": [
              "LASTMILE_DISTANCE                   10\n",
              "FIRSTMILE_DISTANCE                 156\n",
              "LAST_MILE_TIME_PREDICTED             0\n",
              "CUSTOMER_LAT                         0\n",
              "CUSTOMER_LNG                         0\n",
              "DE_HOME_LAT                          0\n",
              "DE_HOME_LNG                          0\n",
              "ASSIGNMENT_START_TIME_year           0\n",
              "ASSIGNMENT_START_TIME_hour           0\n",
              "ASSIGNMENT_START_TIME_dayofweek      0\n",
              "SHIFT_END_TIME_hour                  0\n",
              "DE_JOINING_DATE_year                 0\n",
              "diff_joining_assign                  0\n",
              "reject_ind                           0\n",
              "dtype: int64"
            ]
          },
          "metadata": {
            "tags": []
          },
          "execution_count": 60
        }
      ]
    },
    {
      "cell_type": "code",
      "metadata": {
        "colab": {
          "base_uri": "https://localhost:8080/"
        },
        "id": "agGYP7An_B9Z",
        "outputId": "5456d483-130f-4bde-bd3b-3b52732d0b7d"
      },
      "source": [
        "df.loc[df['reject_ind']==1].isnull().sum()"
      ],
      "execution_count": 61,
      "outputs": [
        {
          "output_type": "execute_result",
          "data": {
            "text/plain": [
              "LASTMILE_DISTANCE                   7\n",
              "FIRSTMILE_DISTANCE                 37\n",
              "LAST_MILE_TIME_PREDICTED            0\n",
              "CUSTOMER_LAT                        0\n",
              "CUSTOMER_LNG                        0\n",
              "DE_HOME_LAT                         0\n",
              "DE_HOME_LNG                         0\n",
              "ASSIGNMENT_START_TIME_year          0\n",
              "ASSIGNMENT_START_TIME_hour          0\n",
              "ASSIGNMENT_START_TIME_dayofweek     0\n",
              "SHIFT_END_TIME_hour                 0\n",
              "DE_JOINING_DATE_year                0\n",
              "diff_joining_assign                 0\n",
              "reject_ind                          0\n",
              "dtype: int64"
            ]
          },
          "metadata": {
            "tags": []
          },
          "execution_count": 61
        }
      ]
    },
    {
      "cell_type": "markdown",
      "metadata": {
        "id": "7UXwpRiyBv_l"
      },
      "source": [
        "Only LASTMILE_DISTANCE and FIRSTMILE_DISTANCE have null values, and since the rows with reject_ind=1 are less therefore we plan to keep rows having missing values for rejected assigned orders."
      ]
    },
    {
      "cell_type": "code",
      "metadata": {
        "colab": {
          "base_uri": "https://localhost:8080/",
          "height": 491
        },
        "id": "WTeP3wNBDJ2t",
        "outputId": "bcb8ee2e-95fb-4f09-8c92-765e38f7deee"
      },
      "source": [
        "sns.FacetGrid(total_df, hue='reject_ind', size=5).map(sns.distplot, 'FIRSTMILE_DISTANCE').add_legend()\n",
        "plt.show()"
      ],
      "execution_count": 62,
      "outputs": [
        {
          "output_type": "stream",
          "text": [
            "/usr/local/lib/python3.7/dist-packages/seaborn/axisgrid.py:316: UserWarning: The `size` parameter has been renamed to `height`; please update your code.\n",
            "  warnings.warn(msg, UserWarning)\n",
            "/usr/local/lib/python3.7/dist-packages/seaborn/distributions.py:2557: FutureWarning: `distplot` is a deprecated function and will be removed in a future version. Please adapt your code to use either `displot` (a figure-level function with similar flexibility) or `histplot` (an axes-level function for histograms).\n",
            "  warnings.warn(msg, FutureWarning)\n",
            "/usr/local/lib/python3.7/dist-packages/seaborn/distributions.py:2557: FutureWarning: `distplot` is a deprecated function and will be removed in a future version. Please adapt your code to use either `displot` (a figure-level function with similar flexibility) or `histplot` (an axes-level function for histograms).\n",
            "  warnings.warn(msg, FutureWarning)\n"
          ],
          "name": "stderr"
        },
        {
          "output_type": "display_data",
          "data": {
            "image/png": "[encoded data removed]",
            "text/plain": [
              "<Figure size 417x360 with 1 Axes>"
            ]
          },
          "metadata": {
            "tags": [],
            "needs_background": "light"
          }
        }
      ]
    },
    {
      "cell_type": "markdown",
      "metadata": {
        "id": "BPH7760rDd0V"
      },
      "source": [
        "From the distribution plot we can see that as the first mile distance increases the number of assigned orders that are accepted becomes less, whereas if the first mile distance is in the range of 300 the chances of the order getting accepted by delivery excutive is high. Similary, we can see that the rejection rate is less when the first mile distance is within 300 miles."
      ]
    },
    {
      "cell_type": "code",
      "metadata": {
        "colab": {
          "base_uri": "https://localhost:8080/",
          "height": 419
        },
        "id": "ZldhPNAbEMmd",
        "outputId": "905d6854-af51-452c-c5c4-df5fc512f3fa"
      },
      "source": [
        "sns.FacetGrid(total_df, hue='reject_ind', size=4).map(sns.distplot, 'LASTMILE_DISTANCE').add_legend()\n",
        "plt.show()"
      ],
      "execution_count": 63,
      "outputs": [
        {
          "output_type": "stream",
          "text": [
            "/usr/local/lib/python3.7/dist-packages/seaborn/axisgrid.py:316: UserWarning: The `size` parameter has been renamed to `height`; please update your code.\n",
            "  warnings.warn(msg, UserWarning)\n",
            "/usr/local/lib/python3.7/dist-packages/seaborn/distributions.py:2557: FutureWarning: `distplot` is a deprecated function and will be removed in a future version. Please adapt your code to use either `displot` (a figure-level function with similar flexibility) or `histplot` (an axes-level function for histograms).\n",
            "  warnings.warn(msg, FutureWarning)\n",
            "/usr/local/lib/python3.7/dist-packages/seaborn/distributions.py:2557: FutureWarning: `distplot` is a deprecated function and will be removed in a future version. Please adapt your code to use either `displot` (a figure-level function with similar flexibility) or `histplot` (an axes-level function for histograms).\n",
            "  warnings.warn(msg, FutureWarning)\n"
          ],
          "name": "stderr"
        },
        {
          "output_type": "display_data",
          "data": {
            "image/png": "[encoded data removed]",
            "text/plain": [
              "<Figure size 345x288 with 1 Axes>"
            ]
          },
          "metadata": {
            "tags": [],
            "needs_background": "light"
          }
        }
      ]
    },
    {
      "cell_type": "markdown",
      "metadata": {
        "id": "TdJDic2qErfu"
      },
      "source": [
        "Last mile distance seems to have not much difference in distribution when compared with rejected assigned order vs accepted assigned order. But still we can observe that last mile distance within 400 has high percentage of offers that are accepted."
      ]
    },
    {
      "cell_type": "code",
      "metadata": {
        "id": "BlfLb-zOY8B4"
      },
      "source": [
        "# Dropping rows having missing values\n",
        "df_2 = df.dropna()"
      ],
      "execution_count": 64,
      "outputs": []
    },
    {
      "cell_type": "code",
      "metadata": {
        "id": "e1WvHmwNZL6j"
      },
      "source": [
        "X = (df_2.iloc[:, :-1]).values\n",
        "y = (df_2['reject_ind']).values"
      ],
      "execution_count": 65,
      "outputs": []
    },
    {
      "cell_type": "code",
      "metadata": {
        "id": "wuzt5yUpY1MP"
      },
      "source": [
        "x_train, x_test, y_train, y_test = train_test_split(X, y, stratify=y, test_size=0.4, random_state=42)\n",
        "x_test, x_val, y_test, y_val = train_test_split(x_test, y_test, stratify=y_test, test_size=0.5)"
      ],
      "execution_count": 68,
      "outputs": []
    },
    {
      "cell_type": "markdown",
      "metadata": {
        "id": "CuTdohNMuhjQ"
      },
      "source": [
        "**USING LOGISTIC REGRESSION MODEL ON OUR DATA**"
      ]
    },
    {
      "cell_type": "code",
      "metadata": {
        "colab": {
          "base_uri": "https://localhost:8080/"
        },
        "id": "tJ8ejVA8ZsAp",
        "outputId": "75871c1f-3c89-405f-f547-797908d38bfb"
      },
      "source": [
        "logreg = LogisticRegression()\n",
        "logreg.fit(x_train, y_train)\n",
        "y_train_log_pred = logreg.predict(x_train)\n",
        "y_val_log_pred = logreg.predict(x_val)"
      ],
      "execution_count": 69,
      "outputs": [
        {
          "output_type": "stream",
          "text": [
            "/usr/local/lib/python3.7/dist-packages/sklearn/linear_model/_logistic.py:940: ConvergenceWarning: lbfgs failed to converge (status=1):\n",
            "STOP: TOTAL NO. of ITERATIONS REACHED LIMIT.\n",
            "\n",
            "Increase the number of iterations (max_iter) or scale the data as shown in:\n",
            "    https://scikit-learn.org/stable/modules/preprocessing.html\n",
            "Please also refer to the documentation for alternative solver options:\n",
            "    https://scikit-learn.org/stable/modules/linear_model.html#logistic-regression\n",
            "  extra_warning_msg=_LOGISTIC_SOLVER_CONVERGENCE_MSG)\n"
          ],
          "name": "stderr"
        }
      ]
    },
    {
      "cell_type": "code",
      "metadata": {
        "colab": {
          "base_uri": "https://localhost:8080/"
        },
        "id": "VkQZv_2Vk6OB",
        "outputId": "26a00021-c54a-4eb9-84f6-5e166056125c"
      },
      "source": [
        "accuracy_score(y_train, y_train_log_pred)"
      ],
      "execution_count": 70,
      "outputs": [
        {
          "output_type": "execute_result",
          "data": {
            "text/plain": [
              "0.9393385596531472"
            ]
          },
          "metadata": {
            "tags": []
          },
          "execution_count": 70
        }
      ]
    },
    {
      "cell_type": "code",
      "metadata": {
        "colab": {
          "base_uri": "https://localhost:8080/"
        },
        "id": "p2AQOYf6k0Qd",
        "outputId": "a816458a-a833-4228-b33c-9c3d00e13e90"
      },
      "source": [
        "accuracy_score(y_val, y_val_log_pred)"
      ],
      "execution_count": 71,
      "outputs": [
        {
          "output_type": "execute_result",
          "data": {
            "text/plain": [
              "0.9393905021173624"
            ]
          },
          "metadata": {
            "tags": []
          },
          "execution_count": 71
        }
      ]
    },
    {
      "cell_type": "code",
      "metadata": {
        "colab": {
          "base_uri": "https://localhost:8080/"
        },
        "id": "N3O9RvkTZtjH",
        "outputId": "f7e220cc-e8d4-4086-cfc5-ed6cbc3b48b4"
      },
      "source": [
        "print(classification_report(y_val, y_val_log_pred))"
      ],
      "execution_count": 72,
      "outputs": [
        {
          "output_type": "stream",
          "text": [
            "              precision    recall  f1-score   support\n",
            "\n",
            "           0       0.94      1.00      0.97     24846\n",
            "           1       0.33      0.00      0.00      1602\n",
            "\n",
            "    accuracy                           0.94     26448\n",
            "   macro avg       0.64      0.50      0.48     26448\n",
            "weighted avg       0.90      0.94      0.91     26448\n",
            "\n"
          ],
          "name": "stdout"
        }
      ]
    },
    {
      "cell_type": "markdown",
      "metadata": {
        "id": "BXfzhVTqlEg2"
      },
      "source": [
        "Our logistic regression model was not able to capture the relation of minority class. We didn't use class weights here and also didn't do downsampling or upsampling because of possible loss of information."
      ]
    },
    {
      "cell_type": "markdown",
      "metadata": {
        "id": "NhtWSAfeCThE"
      },
      "source": [
        "**Filling missing values with median (for reject_ind==1)**"
      ]
    },
    {
      "cell_type": "code",
      "metadata": {
        "colab": {
          "base_uri": "https://localhost:8080/"
        },
        "id": "1P05ptoHlmPq",
        "outputId": "63d2921c-fd9d-4a9e-863a-b3a4f4178f82"
      },
      "source": [
        "df.shape"
      ],
      "execution_count": 73,
      "outputs": [
        {
          "output_type": "execute_result",
          "data": {
            "text/plain": [
              "(132394, 14)"
            ]
          },
          "metadata": {
            "tags": []
          },
          "execution_count": 73
        }
      ]
    },
    {
      "cell_type": "code",
      "metadata": {
        "colab": {
          "base_uri": "https://localhost:8080/"
        },
        "id": "zyFt5LwJCbk7",
        "outputId": "7e2894e2-cb43-41d5-b643-7b25626082c2"
      },
      "source": [
        "# Find median of firstmile distance and lastmile distance when reject_ind==1\n",
        "firstmile_median = df.loc[df['reject_ind']==1]['FIRSTMILE_DISTANCE'].median(axis=0)\n",
        "print(\"Median of FIRSTMILE_DISTANCE with reject_ind==1: \", firstmile_median)\n",
        "lastmile_median = df.loc[df['reject_ind']==1]['LASTMILE_DISTANCE'].median(axis=0)\n",
        "print(\"Median of LASTMILE_DISTANCE with reject_ind==1: \", lastmile_median)"
      ],
      "execution_count": 74,
      "outputs": [
        {
          "output_type": "stream",
          "text": [
            "Median of FIRSTMILE_DISTANCE with reject_ind==1:  383.3\n",
            "Median of LASTMILE_DISTANCE with reject_ind==1:  441.2\n"
          ],
          "name": "stdout"
        }
      ]
    },
    {
      "cell_type": "code",
      "metadata": {
        "id": "1GWmvIZImpxB"
      },
      "source": [
        "df.drop(df[(df['reject_ind']==0) & (df['FIRSTMILE_DISTANCE'].isnull())].index, inplace=True)\n",
        "df.drop(df[(df['reject_ind']==0) & (df['LASTMILE_DISTANCE'].isnull())].index, inplace=True)"
      ],
      "execution_count": 78,
      "outputs": []
    },
    {
      "cell_type": "code",
      "metadata": {
        "colab": {
          "base_uri": "https://localhost:8080/"
        },
        "id": "UFypNe_5sZRT",
        "outputId": "46d1e52f-4bcd-47ec-9acb-c39d13ef2509"
      },
      "source": [
        "df.shape"
      ],
      "execution_count": 79,
      "outputs": [
        {
          "output_type": "execute_result",
          "data": {
            "text/plain": [
              "(132275, 14)"
            ]
          },
          "metadata": {
            "tags": []
          },
          "execution_count": 79
        }
      ]
    },
    {
      "cell_type": "markdown",
      "metadata": {
        "id": "KPVlnh0Zti7M"
      },
      "source": [
        "119 rows were deleted since 119 rows with accpeted assigned order had null values in their FIRSTMILE_DISTANCE and LASTMILE_DIASTANCE"
      ]
    },
    {
      "cell_type": "code",
      "metadata": {
        "colab": {
          "base_uri": "https://localhost:8080/"
        },
        "id": "V7aRU7h5shAd",
        "outputId": "dfc1ac83-6ed6-4890-eb7c-a1ce106bcd8e"
      },
      "source": [
        "# filling a null values using fillna() and median values that we have calculated\n",
        "df['FIRSTMILE_DISTANCE'].fillna(firstmile_median, inplace = True)\n",
        "df['LASTMILE_DISTANCE'].fillna(lastmile_median, inplace = True)"
      ],
      "execution_count": 80,
      "outputs": [
        {
          "output_type": "stream",
          "text": [
            "/usr/local/lib/python3.7/dist-packages/pandas/core/series.py:4536: SettingWithCopyWarning: \n",
            "A value is trying to be set on a copy of a slice from a DataFrame\n",
            "\n",
            "See the caveats in the documentation: https://pandas.pydata.org/pandas-docs/stable/user_guide/indexing.html#returning-a-view-versus-a-copy\n",
            "  downcast=downcast,\n"
          ],
          "name": "stderr"
        }
      ]
    },
    {
      "cell_type": "code",
      "metadata": {
        "colab": {
          "base_uri": "https://localhost:8080/"
        },
        "id": "va9QXOOCsb_8",
        "outputId": "b892d25b-b5ae-4f15-b139-dcb1590a9b70"
      },
      "source": [
        "df.isnull().sum()"
      ],
      "execution_count": 81,
      "outputs": [
        {
          "output_type": "execute_result",
          "data": {
            "text/plain": [
              "LASTMILE_DISTANCE                  0\n",
              "FIRSTMILE_DISTANCE                 0\n",
              "LAST_MILE_TIME_PREDICTED           0\n",
              "CUSTOMER_LAT                       0\n",
              "CUSTOMER_LNG                       0\n",
              "DE_HOME_LAT                        0\n",
              "DE_HOME_LNG                        0\n",
              "ASSIGNMENT_START_TIME_year         0\n",
              "ASSIGNMENT_START_TIME_hour         0\n",
              "ASSIGNMENT_START_TIME_dayofweek    0\n",
              "SHIFT_END_TIME_hour                0\n",
              "DE_JOINING_DATE_year               0\n",
              "diff_joining_assign                0\n",
              "reject_ind                         0\n",
              "dtype: int64"
            ]
          },
          "metadata": {
            "tags": []
          },
          "execution_count": 81
        }
      ]
    },
    {
      "cell_type": "markdown",
      "metadata": {
        "id": "6EZ-pppJt_lZ"
      },
      "source": [
        "Now we can see that there are no null values."
      ]
    },
    {
      "cell_type": "code",
      "metadata": {
        "id": "_57OoZ-2vIBO"
      },
      "source": [
        "X = (df.iloc[:, :-1]).values\n",
        "y = (df['reject_ind']).values\n",
        "x_train, x_test, y_train, y_test = train_test_split(X, y, stratify=y, test_size=0.4, random_state=42)\n",
        "x_test, x_val, y_test, y_val = train_test_split(x_test, y_test, stratify=y_test, test_size=0.5)"
      ],
      "execution_count": 82,
      "outputs": []
    },
    {
      "cell_type": "markdown",
      "metadata": {
        "id": "35nZOnFCur1Z"
      },
      "source": [
        "**USING RANDOM FOREST ON OUR DATA**"
      ]
    },
    {
      "cell_type": "code",
      "metadata": {
        "colab": {
          "base_uri": "https://localhost:8080/"
        },
        "id": "QaFP2W3ct-jH",
        "outputId": "aaf872b3-77a9-4f25-db46-093aec20625d"
      },
      "source": [
        "rf=RandomForestClassifier(max_depth = 5, n_estimators=100)\n",
        "rf.fit(x_train, y_train)"
      ],
      "execution_count": 83,
      "outputs": [
        {
          "output_type": "execute_result",
          "data": {
            "text/plain": [
              "RandomForestClassifier(bootstrap=True, ccp_alpha=0.0, class_weight=None,\n",
              "                       criterion='gini', max_depth=5, max_features='auto',\n",
              "                       max_leaf_nodes=None, max_samples=None,\n",
              "                       min_impurity_decrease=0.0, min_impurity_split=None,\n",
              "                       min_samples_leaf=1, min_samples_split=2,\n",
              "                       min_weight_fraction_leaf=0.0, n_estimators=100,\n",
              "                       n_jobs=None, oob_score=False, random_state=None,\n",
              "                       verbose=0, warm_start=False)"
            ]
          },
          "metadata": {
            "tags": []
          },
          "execution_count": 83
        }
      ]
    },
    {
      "cell_type": "code",
      "metadata": {
        "id": "c8EKguxZux_-"
      },
      "source": [
        "y_train_preds = rf.predict(x_train)\n",
        "y_val_preds = rf.predict(x_val)"
      ],
      "execution_count": 84,
      "outputs": []
    },
    {
      "cell_type": "code",
      "metadata": {
        "colab": {
          "base_uri": "https://localhost:8080/"
        },
        "id": "eXVqc8KQuyKE",
        "outputId": "0dab9abe-0b14-40ae-82c6-641271fccd33"
      },
      "source": [
        "print(classification_report(y_val, y_val_preds))"
      ],
      "execution_count": 85,
      "outputs": [
        {
          "output_type": "stream",
          "text": [
            "              precision    recall  f1-score   support\n",
            "\n",
            "           0       0.94      1.00      0.97     24846\n",
            "           1       0.00      0.00      0.00      1609\n",
            "\n",
            "    accuracy                           0.94     26455\n",
            "   macro avg       0.47      0.50      0.48     26455\n",
            "weighted avg       0.88      0.94      0.91     26455\n",
            "\n"
          ],
          "name": "stdout"
        },
        {
          "output_type": "stream",
          "text": [
            "/usr/local/lib/python3.7/dist-packages/sklearn/metrics/_classification.py:1272: UndefinedMetricWarning: Precision and F-score are ill-defined and being set to 0.0 in labels with no predicted samples. Use `zero_division` parameter to control this behavior.\n",
            "  _warn_prf(average, modifier, msg_start, len(result))\n"
          ],
          "name": "stderr"
        }
      ]
    },
    {
      "cell_type": "markdown",
      "metadata": {
        "id": "c0tl-MOfwwed"
      },
      "source": [
        "Our model still is unable to cpature the realtion of minority class, we didn't give weights to the target classes yet."
      ]
    },
    {
      "cell_type": "markdown",
      "metadata": {
        "id": "V8LRocR3xk9u"
      },
      "source": [
        "**Creating a distance feature with the use of latitude and longitude of customer address and delivery executive home address. This feature will give the distance between customer's address and DE's home address**"
      ]
    },
    {
      "cell_type": "code",
      "metadata": {
        "id": "7PuqzF7quyUZ"
      },
      "source": [
        "from math import radians, cos, sin, asin, sqrt\n",
        "def distance(dataframe):\n",
        "  lat1, lat2, lon1, lon2 = dataframe['CUSTOMER_LAT'], dataframe['DE_HOME_LAT'], dataframe['CUSTOMER_LNG'], dataframe['DE_HOME_LNG']\n",
        "  # The math module contains a function named radians which converts from degrees to radians.\n",
        "  lon1 = radians(lon1)\n",
        "  lon2 = radians(lon2)\n",
        "  lat1 = radians(lat1)\n",
        "  lat2 = radians(lat2)\n",
        "  # Haversine formula\n",
        "  dlon = lon2 - lon1\n",
        "  dlat = lat2 - lat1\n",
        "  a = sin(dlat / 2)**2 + cos(lat1) * cos(lat2) * sin(dlon / 2)**2\n",
        "  c = 2 * asin(sqrt(a))\n",
        "  # Radius of earth in kilometers. Use 3956 for miles\n",
        "  r = 6371 \n",
        "  # calculate the result\n",
        "  return (c*r)"
      ],
      "execution_count": 86,
      "outputs": []
    },
    {
      "cell_type": "code",
      "metadata": {
        "id": "3B4HePvlyIS1"
      },
      "source": [
        "df['distance'] = df.apply(distance, axis=1)"
      ],
      "execution_count": 88,
      "outputs": []
    },
    {
      "cell_type": "code",
      "metadata": {
        "colab": {
          "base_uri": "https://localhost:8080/"
        },
        "id": "33pkfhUAMyLD",
        "outputId": "83ed494d-3cc8-4e4c-e252-ce151ac61c1b"
      },
      "source": [
        "df['distance'].describe()"
      ],
      "execution_count": 89,
      "outputs": [
        {
          "output_type": "execute_result",
          "data": {
            "text/plain": [
              "count    132275.000000\n",
              "mean          6.229438\n",
              "std          52.909534\n",
              "min           0.003331\n",
              "25%           1.787352\n",
              "50%           3.078555\n",
              "75%           4.824250\n",
              "max        1363.208516\n",
              "Name: distance, dtype: float64"
            ]
          },
          "metadata": {
            "tags": []
          },
          "execution_count": 89
        }
      ]
    },
    {
      "cell_type": "code",
      "metadata": {
        "colab": {
          "base_uri": "https://localhost:8080/",
          "height": 351
        },
        "id": "0-RBWL8jQ0-0",
        "outputId": "89b5bb77-779e-4e8f-eac2-a620e95ccf77"
      },
      "source": [
        "sns.FacetGrid(df, hue='reject_ind', size=4).map(plt.scatter, 'distance', 'reject_ind')\n",
        "plt.show()"
      ],
      "execution_count": 90,
      "outputs": [
        {
          "output_type": "stream",
          "text": [
            "/usr/local/lib/python3.7/dist-packages/seaborn/axisgrid.py:316: UserWarning: The `size` parameter has been renamed to `height`; please update your code.\n",
            "  warnings.warn(msg, UserWarning)\n"
          ],
          "name": "stderr"
        },
        {
          "output_type": "display_data",
          "data": {
            "image/png": "[encoded data removed]",
            "text/plain": [
              "<Figure size 288x288 with 1 Axes>"
            ]
          },
          "metadata": {
            "tags": [],
            "needs_background": "light"
          }
        }
      ]
    },
    {
      "cell_type": "code",
      "metadata": {
        "colab": {
          "base_uri": "https://localhost:8080/",
          "height": 419
        },
        "id": "V_UZURTAVW-C",
        "outputId": "24f8ec6c-b4ea-4ccd-e826-c53dd85d4e94"
      },
      "source": [
        "sns.FacetGrid(df, hue='reject_ind', size=4).map(sns.distplot, 'distance').add_legend()\n",
        "plt.show()"
      ],
      "execution_count": 91,
      "outputs": [
        {
          "output_type": "stream",
          "text": [
            "/usr/local/lib/python3.7/dist-packages/seaborn/axisgrid.py:316: UserWarning: The `size` parameter has been renamed to `height`; please update your code.\n",
            "  warnings.warn(msg, UserWarning)\n",
            "/usr/local/lib/python3.7/dist-packages/seaborn/distributions.py:2557: FutureWarning: `distplot` is a deprecated function and will be removed in a future version. Please adapt your code to use either `displot` (a figure-level function with similar flexibility) or `histplot` (an axes-level function for histograms).\n",
            "  warnings.warn(msg, FutureWarning)\n",
            "/usr/local/lib/python3.7/dist-packages/seaborn/distributions.py:2557: FutureWarning: `distplot` is a deprecated function and will be removed in a future version. Please adapt your code to use either `displot` (a figure-level function with similar flexibility) or `histplot` (an axes-level function for histograms).\n",
            "  warnings.warn(msg, FutureWarning)\n"
          ],
          "name": "stderr"
        },
        {
          "output_type": "display_data",
          "data": {
            "image/png": "[encoded data removed]",
            "text/plain": [
              "<Figure size 345x288 with 1 Axes>"
            ]
          },
          "metadata": {
            "tags": [],
            "needs_background": "light"
          }
        }
      ]
    },
    {
      "cell_type": "markdown",
      "metadata": {
        "id": "bxilqqmfe3RE"
      },
      "source": [
        "Therefore we can see that distance between DE home address and customer address when less the DE accepts more order."
      ]
    },
    {
      "cell_type": "code",
      "metadata": {
        "id": "gh2soTLZuydc"
      },
      "source": [
        "df = df[['LASTMILE_DISTANCE', 'FIRSTMILE_DISTANCE', 'LAST_MILE_TIME_PREDICTED', 'distance',\n",
        "       'ASSIGNMENT_START_TIME_year', 'ASSIGNMENT_START_TIME_hour', 'ASSIGNMENT_START_TIME_dayofweek', 'SHIFT_END_TIME_hour',\n",
        "       'DE_JOINING_DATE_year', 'reject_ind']]"
      ],
      "execution_count": 92,
      "outputs": []
    },
    {
      "cell_type": "code",
      "metadata": {
        "id": "TemqrWHPuymf"
      },
      "source": [
        "X = (df.iloc[:, :-1]).values\n",
        "y = (df['reject_ind']).values\n",
        "x_train, x_test, y_train, y_test = train_test_split(X, y, stratify=y, test_size=0.4, random_state=42)\n",
        "x_test, x_val, y_test, y_val = train_test_split(x_test, y_test, stratify=y_test, test_size=0.5)"
      ],
      "execution_count": 93,
      "outputs": []
    },
    {
      "cell_type": "markdown",
      "metadata": {
        "id": "A8RyhFvXqKhE"
      },
      "source": [
        "**RANDOM FOREST - using balanced class weights**"
      ]
    },
    {
      "cell_type": "code",
      "metadata": {
        "colab": {
          "base_uri": "https://localhost:8080/"
        },
        "id": "FszLy06buyvj",
        "outputId": "6fabfe3b-0992-4a09-8267-47a2f56c8ec9"
      },
      "source": [
        "rf=RandomForestClassifier(max_depth = 5, n_estimators=100, class_weight='balanced')\n",
        "rf.fit(x_train, y_train)"
      ],
      "execution_count": 96,
      "outputs": [
        {
          "output_type": "execute_result",
          "data": {
            "text/plain": [
              "RandomForestClassifier(bootstrap=True, ccp_alpha=0.0, class_weight='balanced',\n",
              "                       criterion='gini', max_depth=5, max_features='auto',\n",
              "                       max_leaf_nodes=None, max_samples=None,\n",
              "                       min_impurity_decrease=0.0, min_impurity_split=None,\n",
              "                       min_samples_leaf=1, min_samples_split=2,\n",
              "                       min_weight_fraction_leaf=0.0, n_estimators=100,\n",
              "                       n_jobs=None, oob_score=False, random_state=None,\n",
              "                       verbose=0, warm_start=False)"
            ]
          },
          "metadata": {
            "tags": []
          },
          "execution_count": 96
        }
      ]
    },
    {
      "cell_type": "code",
      "metadata": {
        "id": "uUcsKI6M07Kv"
      },
      "source": [
        "y_train_preds = rf.predict(x_train)\n",
        "y_val_preds = rf.predict(x_val)"
      ],
      "execution_count": 97,
      "outputs": []
    },
    {
      "cell_type": "code",
      "metadata": {
        "colab": {
          "base_uri": "https://localhost:8080/"
        },
        "id": "3Y3eLVmX07TV",
        "outputId": "153b4beb-cb93-4afe-ae55-fe90383f7a0d"
      },
      "source": [
        "print(classification_report(y_val, y_val_preds))"
      ],
      "execution_count": 98,
      "outputs": [
        {
          "output_type": "stream",
          "text": [
            "              precision    recall  f1-score   support\n",
            "\n",
            "           0       0.97      0.57      0.72     24846\n",
            "           1       0.09      0.69      0.17      1609\n",
            "\n",
            "    accuracy                           0.58     26455\n",
            "   macro avg       0.53      0.63      0.44     26455\n",
            "weighted avg       0.91      0.58      0.68     26455\n",
            "\n"
          ],
          "name": "stdout"
        }
      ]
    },
    {
      "cell_type": "markdown",
      "metadata": {
        "id": "kFeGuE8Uf_4w"
      },
      "source": [
        "We can see improvement in our recall score as we have given class weights to our random forest model, whereas it has resulted in fall in our precision score for class 0. Precision score is 0.17 which is not good."
      ]
    },
    {
      "cell_type": "code",
      "metadata": {
        "id": "r1KeWRSe07bn"
      },
      "source": [
        "# define model\n",
        "rf_2 = RandomForestClassifier(n_estimators=10, class_weight='balanced_subsample')"
      ],
      "execution_count": 99,
      "outputs": []
    },
    {
      "cell_type": "code",
      "metadata": {
        "colab": {
          "base_uri": "https://localhost:8080/"
        },
        "id": "KeOuvXaChUp_",
        "outputId": "76345ba9-0b42-418c-8b3e-c519062e3e6c"
      },
      "source": [
        "rf_2.fit(x_train, y_train)\n",
        "y_train_preds_ = rf_2.predict(x_train)\n",
        "y_val_preds_ = rf_2.predict(x_val)\n",
        "print(classification_report(y_val, y_val_preds_))"
      ],
      "execution_count": 100,
      "outputs": [
        {
          "output_type": "stream",
          "text": [
            "              precision    recall  f1-score   support\n",
            "\n",
            "           0       0.95      1.00      0.97     24846\n",
            "           1       0.92      0.17      0.28      1609\n",
            "\n",
            "    accuracy                           0.95     26455\n",
            "   macro avg       0.93      0.58      0.63     26455\n",
            "weighted avg       0.95      0.95      0.93     26455\n",
            "\n"
          ],
          "name": "stdout"
        }
      ]
    },
    {
      "cell_type": "markdown",
      "metadata": {
        "id": "F3ylro39ir0e"
      },
      "source": [
        "Using class weights as 'balanced subsample' the f1_score has increased from 0.17 to 0.28"
      ]
    },
    {
      "cell_type": "code",
      "metadata": {
        "colab": {
          "base_uri": "https://localhost:8080/",
          "height": 421
        },
        "id": "OBgo0DW51K34",
        "outputId": "c6e51adc-b673-43a5-ddab-b8013cee7f97"
      },
      "source": [
        "# get feature importance\n",
        "importance = rf_2.feature_importances_\n",
        "# summarize feature importance\n",
        "for i,v in enumerate(importance):\n",
        "\tprint('Feature: %0d, Score: %.5f' % (i,v))\n",
        "# plot feature importance\n",
        "plt.bar([x for x in range(len(importance))], importance)\n",
        "plt.show()"
      ],
      "execution_count": 101,
      "outputs": [
        {
          "output_type": "stream",
          "text": [
            "Feature: 0, Score: 0.17258\n",
            "Feature: 1, Score: 0.23975\n",
            "Feature: 2, Score: 0.17495\n",
            "Feature: 3, Score: 0.18828\n",
            "Feature: 4, Score: 0.00000\n",
            "Feature: 5, Score: 0.07992\n",
            "Feature: 6, Score: 0.07122\n",
            "Feature: 7, Score: 0.04135\n",
            "Feature: 8, Score: 0.03195\n"
          ],
          "name": "stdout"
        },
        {
          "output_type": "display_data",
          "data": {
            "image/png": "[encoded data removed]",
            "text/plain": [
              "<Figure size 432x288 with 1 Axes>"
            ]
          },
          "metadata": {
            "tags": [],
            "needs_background": "light"
          }
        }
      ]
    },
    {
      "cell_type": "code",
      "metadata": {
        "colab": {
          "base_uri": "https://localhost:8080/"
        },
        "id": "loBl1HNKqsXb",
        "outputId": "efc86934-2670-49d0-d4ac-c9f6fb5a457e"
      },
      "source": [
        "df.iloc[:, :-1].columns"
      ],
      "execution_count": 109,
      "outputs": [
        {
          "output_type": "execute_result",
          "data": {
            "text/plain": [
              "Index(['LASTMILE_DISTANCE', 'FIRSTMILE_DISTANCE', 'LAST_MILE_TIME_PREDICTED',\n",
              "       'distance', 'ASSIGNMENT_START_TIME_year', 'ASSIGNMENT_START_TIME_hour',\n",
              "       'ASSIGNMENT_START_TIME_dayofweek', 'SHIFT_END_TIME_hour',\n",
              "       'DE_JOINING_DATE_year'],\n",
              "      dtype='object')"
            ]
          },
          "metadata": {
            "tags": []
          },
          "execution_count": 109
        }
      ]
    },
    {
      "cell_type": "markdown",
      "metadata": {
        "id": "sr2S5SGnqaI7"
      },
      "source": [
        "Therefore we can see that feature 4 i.e. ''ASSIGNMENT_START_TIME_year' distance doesn't help our model, feature 0 to 4 are important i.e 'LASTMILE_DISTANCE', 'FIRSTMILE_DISTANCE', 'LAST_MILE_TIME_PREDICTED', and \n",
        "       'distance'"
      ]
    },
    {
      "cell_type": "markdown",
      "metadata": {
        "id": "a0CiofNT1yjr"
      },
      "source": [
        "I have chosen the f1_score as my evaluation metrics since it brings a balance between precision and recall, now recall is important for us because since it helps us maintain all the relevant instances in our data, so is our precision as it tells us how much our model is relevant. Giving class_weights to the model we have seen that the recall of our model for minority class increases whereas for majority class it deacreses with also precision_score being very little for minority class. Whereas if we 'balanced_subsample' as our class_weights then there is a balance between recall, precision - this we get using f1_score."
      ]
    },
    {
      "cell_type": "markdown",
      "metadata": {
        "id": "Fb5SRk54unr3"
      },
      "source": [
        "Further improvements in model: We can possibly use other techniques to handle the imbalanced nature of data classes. I didn't use undersampling of majority class because it may lead to losing data which is not preferred."
      ]
    },
    {
      "cell_type": "markdown",
      "metadata": {
        "id": "4pwiC6PKvC5O"
      },
      "source": [
        "OBSERVATIONS:\n",
        "\n",
        "1. The data is imbalanced heavily with class 0 having around 120000 rows and class 1 having 8048 rows.\n",
        "\n",
        "2. The end_shift_time of the delivery boy was not clear, the time was not in 24 hrs format neither it was mentioned whether the shift ends at am or pm. Assuming that the shift starts at 8 am and end at 12 am, the time was chaned to 24 hrs format. We observed that when the DE gets order when his/her shift_end_time is near, the DE tends to reject the assigned order.\n",
        "\n",
        "3. The first mile distance is an important feature when it comes to DE rejecting or accepting an offer. If it's too far, then DE rejects the order\n",
        "\n",
        "4. After doing a lot of analysis on the data we understood when a delivery agent is new, he tends to deliver more orders as compared to someone who has been working for 2-3 years. Possibly since that person takes so many orders often the delivery executive assignment system assigns them more orders which sometimes lead to rejection of the order.\n",
        "\n",
        "5. At a particlar shift of the day the surge in customers ordering food is high, and maybe due to excessive offers the DE get during that time the number of assigned orders rejected are more during that time. We can possibly make sure that during that partcular time we have maximum number of DE and not much DE's shifts end during that time. This will help us deal with huge customers during that time without disappointing them with much waiting time making better customer experience.\n",
        "\n",
        "6. Using shift_end_time and assignment_order_time we can get the dead_hour of the DE and see if a DE rejects more orders during his/her dead hour. Dead hour is the hour in which the shift_end_time of the DE is near. From the patterns we can see which DE tend to reject more offer during their dead_hour.\n",
        "\n",
        "7. In a day every DE must have limits and patterns in the number of orders they deliver. One DE might take 20 orders per day whereas another might take 10 orders at maximum. We can track how many orders in a day a DE is delivering, if they feels like they have exhausted one day's work then they might reject order after that."
      ]
    }
  ]
}